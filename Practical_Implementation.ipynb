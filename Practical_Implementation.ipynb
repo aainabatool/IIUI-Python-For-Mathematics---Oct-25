{
  "nbformat": 4,
  "nbformat_minor": 0,
  "metadata": {
    "colab": {
      "provenance": [],
      "authorship_tag": "ABX9TyNKLOZ/gS02FEWky5vVR4vl",
      "include_colab_link": true
    },
    "kernelspec": {
      "name": "python3",
      "display_name": "Python 3"
    },
    "language_info": {
      "name": "python"
    }
  },
  "cells": [
    {
      "cell_type": "markdown",
      "metadata": {
        "id": "view-in-github",
        "colab_type": "text"
      },
      "source": [
        "<a href=\"https://colab.research.google.com/github/aainabatool/IIUI-Python-For-Mathematics---Oct-25/blob/main/Practical_Implementation.ipynb\" target=\"_parent\"><img src=\"https://colab.research.google.com/assets/colab-badge.svg\" alt=\"Open In Colab\"/></a>"
      ]
    },
    {
      "cell_type": "markdown",
      "source": [
        "# **1. Algebra & Symbolic Computation (using SymPy)**"
      ],
      "metadata": {
        "id": "TxhcU2uue44y"
      }
    },
    {
      "cell_type": "markdown",
      "source": [
        "## **Solving a Quadratic Equation**\n"
      ],
      "metadata": {
        "id": "2iKD8WU4e-BS"
      }
    },
    {
      "cell_type": "markdown",
      "source": [
        "2x**2+5x−3=0"
      ],
      "metadata": {
        "id": "VpuJOv6cfwGo"
      }
    },
    {
      "cell_type": "code",
      "execution_count": null,
      "metadata": {
        "id": "0G8sFAuVeZru"
      },
      "outputs": [],
      "source": [
        "import sympy as sp\n",
        "\n",
        "x = sp.Symbol('x')              #x represents a variable (like in algebra).\n",
        "equation = 2*x**2 + 5*x - 3\n",
        "solutions = sp.solve(equation, x)\n",
        "print(\"Solutions:\", solutions)\n"
      ]
    },
    {
      "cell_type": "markdown",
      "source": [
        "SymPy does symbolic algebra — it solves just like humans, not approximate numerically."
      ],
      "metadata": {
        "id": "RfLiV_YEfMkB"
      }
    },
    {
      "cell_type": "markdown",
      "source": [
        "## **Differentiation and Integration**"
      ],
      "metadata": {
        "id": "bXza75ZsfPhI"
      }
    },
    {
      "cell_type": "markdown",
      "source": [
        "f(x)=x**3+2x**2+3x+4"
      ],
      "metadata": {
        "id": "dcitJ-8kfYkp"
      }
    },
    {
      "cell_type": "code",
      "source": [
        "f = x**3 + 2*x**2 + 3*x + 4\n",
        "\n",
        "# Derivative\n",
        "df = sp.diff(f, x)\n",
        "print(\"Derivative:\", df)\n",
        "\n",
        "# Integral\n",
        "int_f = sp.integrate(f, x)\n",
        "print(\"Integral:\", int_f)\n"
      ],
      "metadata": {
        "id": "WRwvsCtdfNtS"
      },
      "execution_count": null,
      "outputs": []
    },
    {
      "cell_type": "markdown",
      "source": [
        "This shows how calculus operations (core to optimization in ML) are automated."
      ],
      "metadata": {
        "id": "M7D6GdyvfnFB"
      }
    },
    {
      "cell_type": "markdown",
      "source": [
        "# **2. Linear Algebra (using NumPy)**"
      ],
      "metadata": {
        "id": "-PxAqGKmf2Vp"
      }
    },
    {
      "cell_type": "markdown",
      "source": [
        "## **Eigen Values & Eigen Vectors**"
      ],
      "metadata": {
        "id": "u1TuioCzf8bI"
      }
    },
    {
      "cell_type": "markdown",
      "source": [
        "1. Used in PCA (Principal Component Analysis) in Machine Learning\n",
        "\n",
        "2. Helps understand matrix transformations\n",
        "\n",
        "3. Important for diagonalization and stability analysis"
      ],
      "metadata": {
        "id": "83y8tZs5k0Ir"
      }
    },
    {
      "cell_type": "code",
      "source": [
        "import numpy as np\n",
        "\n",
        "# Define a 2x2 matrix\n",
        "A = np.array([\n",
        "    [4, 2],\n",
        "    [1, 3]\n",
        "])\n",
        "\n",
        "# Compute eigenvalues and eigenvectors\n",
        "eigenvalues, eigenvectors = np.linalg.eig(A)\n",
        "\n",
        "print(\"Matrix A:\")\n",
        "print(A)\n",
        "\n",
        "print(\"\\nEigenvalues:\")\n",
        "print(eigenvalues)\n",
        "\n",
        "print(\"\\nEigenvectors:\")\n",
        "print(eigenvectors)\n"
      ],
      "metadata": {
        "id": "cISJJmXUfoKB"
      },
      "execution_count": null,
      "outputs": []
    },
    {
      "cell_type": "markdown",
      "source": [
        "1.The eigenvalues are 5 and 2.\n",
        "→ These represent how much the corresponding eigenvectors are scaled by matrix A.\n",
        "\n",
        "2. The eigenvectors are the directions that stay the same (only stretched or shrunk)."
      ],
      "metadata": {
        "id": "OlgmQ2vKgD4K"
      }
    },
    {
      "cell_type": "markdown",
      "source": [
        "## **Solving Simulatneous Equation:**"
      ],
      "metadata": {
        "id": "r6EVaiO8njBs"
      }
    },
    {
      "cell_type": "markdown",
      "source": [
        "**Solve the following system for x,y,z:**"
      ],
      "metadata": {
        "id": "V9ce8RKcgXKJ"
      }
    },
    {
      "cell_type": "markdown",
      "source": [
        "![N.png](data:image/png;base64,iVBORw0KGgoAAAANSUhEUgAAASkAAAB7CAYAAAAoqHbKAAAAAXNSR0IArs4c6QAAAARnQU1BAACxjwv8YQUAAAAJcEhZcwAADsMAAA7DAcdvqGQAAB5/SURBVHhe7d17VFTl/sfxNyCJjIEiKjqxDqCj2clBKIoxdIGGHBNIXGkG2vKSopbM4eYlER0UNMEbFlKioSkI6klNSUSwpaacxSkvoWV4TVAoDwJHRS7S749wfs5GEQpwdJ7XWrMW8zzPftYwMB/2fvZmf434C+zt7X+XtgmCILQkY2mDIAiCPhEhJQiCXhMhJQiCXhMhJQiCXhMhJQiCXhMhJQiCXhMhJQiCXhMhJQiCXhMhJQiCXhMhJQiCXhMhJQiCXhMhJQiCXhMhJQiCXhMhJQiCXhMhJQiCXhMhVU8mk7Fy5Up+/PFHNmzYIO0WBOExESEFKBQKNm/ejLe3N8eOHePDDz+UDhEE4TEx+JCSyWRERkbSv39/cnNzmTlzJsXFxdJhgiA8JgYfUhqNBldXV0pKSkhISODWrVvSIYIgPEYGHVI+Pj4MGTIEIyMjcnJyOHbsmHSIDj8/P1JTU8nIyCA9PZ0JEyZIhwhPgMGDB7NhwwYyMjJITU1l7Nix0iGCHjHokHJzc8PS0pIbN27wzTffSLt1hIWFERYWRn5+Pvv27cPGxob58+ezceNGZDKZdLigpwICAoiJiaGoqIh169Zx5swZwsPDiY2NlQ4V9IRBh5RSqcTIyIhr166RnZ0t7dZycnLC29ubU6dOsX79euLj44mOjqa0tBRXV1emTp0q3aTF+Pr6kpGRgYuLi7RLaCaZTMbYsWM5duwY8+fP58svv2TRokVkZGTg5uaGu7u7dBNBDxhsSKlUKiwtLQGoqKiQduuws7OjS5cueHh4MGbMGAAyMzP5+eefMTU1ZcCAAdJNWoyJiQkmJia0a9dO2iU0k1KppEuXLg32fEtLSzE1NcXCwkKnXdAPBhtSzZGfn8/Fixe5fv06V65c0bb//vsfZQdNTEzuGw1eXl4sXbqUyZMnI5PJcHV1JSoqqs3XsMaOHUt0dDReXl467UqlEpVKpdPW2mxsbAgODiYoKEgbElOnTsXT01M6tNUUFxdTVVWFp6cnX3zxBQqFAplMxssvv0xJSQk//PCDdBNBD4iQAm7fvi1t0lFQUICvry9ubm58+eWX8EdhVORyOXfv3uXs2bPascuWLSM8PBxzc3OmTJlCWloaixcvRi6XExISwvz58++bufXExsYyceJEnn/+eWJiYrRBpVQqiY+PZ/HixdjY2Eg3axUqlYqUlBRmzpyJWq0mOTmZ0NBQ3nzzTW7evCkd3mouXrzI3r17qa2t5bXXXiMlJYWUlBTkcjmxsbFcvHhRuomgB0RI1e/uN9dbb71Fz549KSgoYOvWrQBMmzaNfv36MX36dIKCgjh37hx9+vRh//79dO3aFZlMRseOHaVTtTgfHx+USiUrVqygsrKS9u3bY21tDcCAAQOwtramuLi4za4HGzNmDNevX2f27NnExcVhYmJCQEAAKSkpjZ5RXb16NT/88EOTH//5z38eubcaFxdHamoqtbW1dOnShRdffJHi4mLKy8ulQwU9YSRtaI4nucy6SqVi+fLl2NjYkJ6ezpw5c6RDHsrd3Z2YmBhu3rxJZGQkubm5AKxYsYL//ve/REdHA/D1119jbW3NnDlzsLOzw9nZmaSkJI4fPy6Z8Q8eHh506tRJp83W1paRI0eyadOmBh+k4uLiB37IQ0JC6NOnD1u3bmXZsmVUVFQwZcoULl68iEajwd/fn5SUFBYsWCDdFOr3tnr16iVtfqDKykoOHz7c5OvLPD09CQkJYefOnXz66afS7lanVqsZP348OTk5yOVyXnnlFUxMTDh37hyzZ89+6M9GeHxESDUzpBQKBatWraKmpgaNRvPQX+qhQ4eydOlSSktLGTVq1CM/xC4uLgQHBzcIKVNTU7p37861a9e4e/euTt/ly5eZPn26Ttv9Zs2axeTJk9m3bx9qtRqA7du38/zzz6PRaNi2bZt0EwCio6NxcnKSNj9QZWUlH3/8MQcPHpR2NTBy5EgCAwNJS0sjOTlZ2t3qfHx8WLBgAQcPHiQ8PBzq936nTJmCpaUlqampbXY4LjSdCKlmhNS9gCorKyM0NJTi4mICAwORy+VERkbqjA0ODmbatGlkZmYSFBSk09ccfn5+TJs2jYULFz5wr6kxmzdvZsCAASxbtoxNmzbh4uLC6tWrqa2t5YMPPuDUqVPSTVrNhAkTeOedd0hKSnpoOEo1Z48O4O7du/z4448UFBRIu6A+fIcPH05ERAQZGRnadl9fXzQaDadPn2bcuHE62wiPn1iTaiKZTEZERAS//fYbU6dO1a7nvPTSS3To0AGAqKgocnJy8PPzo1+/flC/WEv9tVa7du3Cx8fnvllbV9euXamoqNB+aPv164eFhQW//vprmwfU6NGjiYuL0wbUtGnT2LFjR6OL9/3798fNza1ZDzs7O+k0WiYmJty9e5eqqiqd9uzsbK5fv/7IEyjC4yFCqglkMhmxsbG4urry8ssvk5ubq12sdXNz48aNG7i4uPD666/TvXt35HI5ffr0obq6mkuXLkH9lc63b98mJydHOn2rqaur034tk8nw9PSkffv2nD59WmdcawoICOCf//wnf/vb3wgODiY+Pp4NGzYwbdo08vPzG12837JlC6GhoU1+zJo1i6ysLOk0Wt999x3GxsZ4e3vrtAcEBGBhYcGhQ4d02gX9YNAh9WzHZ6F+Ibwxw4YNY9CgQZiammJubo5MJtM+6urqKCws5MyZM1y5coXy8nLeeustrl69SllZGSEhIRw4cIA+ffqwevXqR65NtaSsrCwsLCyIiYlh7969uLq6UllZ2WbXAykUCvz9/UlNTeW9997DxMSEESNGMGjQII4cOcKyZcukm7Sqbdu2kZaWhqenJ/v372fVqlXs2LGD6dOnk5GRwebNm6WbCHrAYNekZDIZS5cuZcSIEeTn5+Pr6ysd0mwymYxBgwZRXl7OsWPHGjz/M/7smpSNjQ29e/empKSEfv36YWJiQnh4OLdv39ae6Wtt917DkSNH4L735+rVq216uCmlUCh4++236dy5Mzdu3CAtLe2h61jC42ewIQWgDlKj/qea3Nxc/P39pd16QaVSMXr0aNasWdPkYLG3t+fjjz+mV69eJCQkEB8fz0cffcTIkSPZunXrQy89EAR9ZNCHe0+CY8eOERIS0uSAArC2tqZz587aPZbQ0FC8vLweyyGWIPxVIqSeQnl5eWRkZNChQweWLl2Kj48PiYmJTJ48uU3XxAShJYjDPT0/3BMEQ2fQISUIgv4z2MM9lUrF0aNHuXDhAkuXLpV2C4KgJww2pARBeDKIkBIEQa+JkBIEQa+JkBIEQa+JkBIEQa+JkBIEQa+JkBIEQa+JkBIEQa8ZbEiZm5tjamoqbW41gwcPZsOGDWRkZJCenq6tySc0zsnJidWrV5ORkcHu3bvRaDSN3s3zaaJWq4mKipI263ByciIhIQEPDw9p11PDYEPKysqKDh06UFNTw2+//SbtblFBQUEsXbqUixcvsnz5csrKypgzZw4JCQkiqBrh7u7OypUrad++PWlpaVRWVuLv78+2bdseeaPCJ1V4eDhffPEFeXl5BAUF4eDgIB2Cp6cnK1euJDMzk5SUFAYNGtSggMfTxGBD6sUXX8TMzIyKigpOnDgh7W5Rr7/+Ol27dqVjx45kZ2eTlpZGWVkZLi4uBnHj/6CgIG1R1eYYP3481dXVpKSksHHjRiZNmsSJEyeQy+W899570uFPjaKiIrKysqitrZV2adXU1JCZmUlRUZG066ljsCHl5OSEsbExFy5cIDs7W9rdourq6jA2NsbCwgKAqqoq7t69i7GxMe3bt5cOf+qYmJg0KEXfFM899xy9e/dm8uTJANy6dYvc3FxqampwcHDAxcVFuskTLzY2ljlz5jS6d5+VlcWsWbNYsWJFgzJnTyODDKlx48bh4OBAeXk527dvl3a3uPDwcGbOnIlGo4H6KiiWlpaUlpaSl5enM1ahUBAREUFERAQKhQIbGxuCg4P58MMP23QtxsvLi+joaMaOHavTrlAo2uxQ6+TJk5SVlWmLWSApLtGuXTvt1wCurq4sXLgQPz8/qH+tarUae3t7nXHCk8XgQkomkzF69Gjat29PdnZ2k2vA/RUFBQVkZGRQXFzM4MGDGTVqFLW1taSlpenctzwgIIB169Zha2vLK6+8wqZNm/j8889xdnbmjTfeIDExUWfe1hISEsLcuXOxs7Nj7ty5OodWsbGxLFu2rE2CatasWTg7O+vc7tje3h5TU1N+/fVXnfduxowZrFu3jnfffZeYmBiWLFmCWq3G0dGxWXc1FfSPQYWUTCZj8eLFPP/88xw6dKhN7/Xt4uLCgQMH+OSTT+jWrRs7d+4kLS1N2+/k5IS/vz/JyckEBgZy8OBBrKysqKio4MKFC9jY2NChQ4dWX2h3cnJi6NChJCcnU1hYiJmZGVZWVlBflVkul1NeXt5gD7AtuLu74+LiQkVFhc4fF3t7e4YPH86ePXsIDQ0lPT2dwYMH4+DgwJIlS3TmkEpNTdWWJ2vK4/Dhw3h6ekqnEVqRwdz0TiaTER8fj6urK7t372bx4sXNupWuQqHQVl15lNraWvLy8h5aU27q1KkEBQVx9epVIiMjyc3NZcKECbi7uzNhwgSor7Y7evRokpOTycnJYeLEiWRnZ5Oeni6dDlrw9Y0dOxZfX18WLFjA2rVrsbCwYNasWXzzzTcEBgaiVqs5cuQIU6dOlW6qrQZzr1jqPc7Ozri4uPDpp5/qtAOcP3++SZVjZDIZiYmJKJVKEhISHjjXPbNnz+a1114jJiaG3NxcaXer8/DwaPLZtuLi4gdWAbpXATsvL6/RkyuZmZn07NmTyMjIP3Vy4klgMCHl5eXF4sWLuXz5MtHR0Rw/flw6pFFqtRovLy9p8wPdO5TbsmWLtAvqP3A7d+7EwcGBnJwcpkyZIh3C9u3b6dOnD1FRUU1aN2vJ10f9ut2cOXM4ffo0b7/9NgDx8fF4eXnx2WefsXz5cukm+Pj4MHHiRMzMzHTazc3NsbS05Nq1azrtAMePH2fevHnS5gbi4uJwc3NjzZo1jb5ujUZD//79WbRoUbN/xi1BqVQSHh5Oly5dpF0PdPnyZaZPny5tFiF1H4MJKeqvL9FoNJiamrJs2bI2WY9SKBTaD2F0dLS2vtvmzZsZOHAgBQUFDcJFpVKxfPlyqqqqmDRp0mNZU/noo4/w8/MjOTmZmJgYAL7++mu6d+9OREQEGRkZ0k0eKjg4GA8Pjz9d2zAuLo5XX32VqKgosrKyUKlUvPPOOyQlJWn3wmQyGVFRUdja2jJv3rwm19FTqVTNOiHR2F5oSxIh9f8Mak0qKyuLTz75BFNTU4KDgxkxYoR0SIvz9vZGpVKhUql0ynt37doV6i9HABg9ejQHDhxAo9GgVCrp1KkTRUVF2oBKTEx85NXHLUkul1NVVcWPP/4I9etR1tbWlJeXa9vaQlhYGI6OjsyfP19bQl2pVGJnZ8f58+ehPqAWLVqEtbU1QUFB2oBKTEx8ZAkvJycn3NzcmvxwdXWlR48e0mmEVmRQIQWwZcsWdu3aRdeuXXn//fdRKBTSIS3q2rVrVFZWcunSJe3hh5eXF1ZWVlRVVWmv0fL29sbe3p5u3brh6OiImZkZhYWFUH/Wz8HBgW+//VZn7tYkvf5m+PDhdOrUiYKCgjbbswsMDGT8+PH07NmTNWvWaBev1Wo11dXV2jVFjUaDj48PL7zwAvHx8Sxfvpzdu3fj7OzM4cOHpdPqSEhIIDQ0tMmPefPmtelhpJHRow92jIyMGlyO8TQxuJAC2LlzJ8XFxSgUikZ3pVvC1q1b2bt3LzY2NsycOZNVq1Yxb948OnbsyL/+9S9Wr14NwNmzZykrK6N379706tWL7777jmHDhrFv3z6mTJnCjh07yMzMlE7favbv3091dTUhISFkZ2czYsQI6urq2nQvatSoUTz77LPas5r3HmZmZly9ehWACRMmoFQqmTFjBklJSSgUCvz8/LC1tWX9+vV89dVX0mn12rp168jPz+eDDz7A1NQUlUrFmTNnyM3NxcfHB+rX/nJzc/npp59QKBSYm5sTExNDfn4+69atk075xHt0TDfiSVuTul98fDze3t5cuHCBKVOmtPregVKp5M0336RTp07cuHGDtLS0BusmKpUKS0tLDh8+zK1btxo8bysymQwnJyd++eUXHB0duXPnDmFhYXTu3Fl7pq85/uqaVGOUSiWAdm1KoVCgUCj4/vvvW33dSGgbjz5f3YjOnTsvlLY9KRQKBc7Ozpibm1NYWMjJkyelQ1pUSUkJhw4dYv/+/Rw6dIjS0lLpEAoLCzl37hw1NTUPfN5WkpKSCAoKwszMjLVr1+Lj48OQIUPIy8tjzZo10uGP1KNHD5555plW+fejkpISSkpKtM9LS0spKCjg5s2bOuOEJ5dBHu4BXLlyhZqaGjp06EDfvn2l3QatW7du3LhxgxMnThAQEMC4ceM4e/bsIxehH+bLL79k7ty50mZBaBKDDani4mL+97//YWRk1KQLIA3J9u3buXPnDqGhobz//vvs2rWLcePGNTg8FYS2YAxQ2LPn0KKePc8VyeUXi3r0ENf8G7j169czaNAgXF1dGThwYLOvzheElmQMYGxktMjIyKiXEdgZGRuLmuOCIOgNY4Dff//9/4937v9aEAThMftjTcrYOJLffy/6HX41MjJ69D9SCYIgtBFjAHlhYWbPq1efkxcVde9RVLRXOkgQBOFxMdize4IgPBlESAmCoNdESAmCoNcMNqRu3bpFdXU1AAMHDpR2C4KgJww2pE6dOsWX//rjJmH3bokiCIL+MdiQEgThySBCqo34+fmRmppKRkYG6enp2oILQuOcnJxYvXo1GRkZ7N69G41G06zb/T6J7v9d2bhxY4Pah4ZGhFQbCAsLIywsjPz8fPbt24eNjQ3z589n48aNrV6i6knm7u7OypUrad++PWlpaVRWVuLv78+2bdvapO7f47B06VKCg4M5evQon3zyCebm5kRFRREbGysdajAMNqRkMhm9e/cGoGPHjtLuFuPk5IS3tzenTp1i/fr1xMfHEx0dTWlpKa6urg8sDdVSfH19ycjIeOzlyIOCgv5UkYDx48dTXV1NSkoKGzduZNKkSZw4cQK5XK5TsPRpoVQqGThwIF27dsXY2Ji9e/fy1VdfUV1dzdChQ3njjTekmxgEgw0ppVLJSy+/BMCZM2ek3S3Gzs6OLl264OHhwZgxY6C+wsfPP/+MqakpAwYMkG7SYkxMTDAxMXns97++9zqa67nnnqN3795MnjwZ6s/I5ubmUlNTg4ODw2MP39ZQV1dHu3btsLCwAKCyshLq38PH/XN8XAw2pNpKfn4+Fy9e5Pr161y5ckXb/vvvf9x5WfrhVSgUREREEBERgUKhwMbGhuDgYD788MM2XYvx8vIiOjq6wXqIQqFos0OtkydPUlZWxqVLl7RtdXV12q+lH1pXV1cWLlyIn58f1L9WtVqNvb29zjh9derUKYKCgpg5cyYrVqyA+j+m9+7p/sMPP0g3MQgipFpZQUEBvr6+uLm5aQ957O3tkcvl3L17l7Nnz2rHBgQEsG7dOmxtbXnllVfYtGkTn3/+Oc7OzrzxxhskJibeN3PrCQkJYe7cudjZ2TF37lydQ6vY2FiWLVvWJkE1a9YsnJ2dWbBggbbN3t4eU1NTfv31V53KvzNmzGDdunW8++67xMTEsGTJEtRqNY6Ojq1+//qWdOrUKfbt28etW7cYM2YMr7/+Ojdu3GDDhg1P1PfRkkRIPQZvvfUWPXv2pKCggK1bt0L92pW/vz/JyckEBgZy8OBBrKysqKio4MKFC9jY2GirprQmJycnhg4dSnJyMoWFhZiZmWFlZQX1tffkcjnl5eXk5eVJN2117u7uuLi4UFFRoVPY1d7enuHDh7Nnzx5CQ0NJT09n8ODBODg4sGTJEp05pFJTU7WlspryOHz4MJ6erXtfyHvVYCIjIzE1NeWLL75oVjHWp43BVou5VyXYxsaG9PR05syZIx2iQ6FQ0K9fvwaHZw/SWJVbd3d3YmJiuHnzJpGRkeTm5kJ9aSZ3d3ftpQnR0dGMHj2a5ORkcnJymDhxItnZ2aSnp0tm/IOHhwedOnXSabO1tWXkyJFs2rSJ8vJynb7i4mKdPZF7xo4di6+vLwsWLGDt2rVYWFhoK8QEBgaiVqs5cuTIAxf8ZTIZgwYNokOHDjrtzs7OuLi48Omnn+q0A5w/f15b6aUxMpmMxMRElEolCQkJD5zrntmzZ/Paa68RExOjfX/b0oN+Fg/zsJ/DPQsWLMDf358TJ04QERFhkLdwFiHVxJBSq9UNyqE/TG1tLWlpaWzZskWnXaFQsGrVKmpqatBoNI0Wmdy+fTt9+vQhKiqK7du3S7t1uLi4EBwc3OCDYWpqSvfu3bl27VqDYp+XL19m+vTpOm33GzduHHPmzOH06dO8/fbbUF8GzMvLi88++4zly5dLN8HHx4eJEydiZmam025ubo6lpSXXrl3TaQc4fvy4tgx9Y+Li4nBzc2PNmjUN3tf7aTQa+vfvz6JFixp9f1uLUqkkPDycLl26SLse6FE/Bzc3N+Li4ujSpQspKSk6h76GQoSUjQ1Hjx5t9SKh9wKqrKyM0NBQiouLCQwMRC6XExkZqTP23murqqpi0qRJf3otws/Pj2nTprFw4cJG/1o/yEcffYSfnx/JycnExMQA8PXXX9O9e3ciIiKadfjxV+vuxcXF8eqrrxIVFUVWVhYqlYp33nmHpKQk7V6YTCYjKioKW1tb5s2b1+Q9DpVK1awTEo3tJf9V7u7uTJ8+nZKSEubOnau9r3xmZiYKhaJNfk/1kViTagMymYyIiAh+++03pk6dqv0Ff+mll7SHRqNHj+bAgQNoNBqUSiWdOnWiqKhIG1CJiYlERUXpzNua5HI5VVVV2orFQ4cOxdramvLy8jatYhwWFoajoyPz588nKysL6vdW7OzsOH/+PNS/v4sWLcLa2pqgoCBtQCUmJj6yDJeTkxNubm5Nfri6utKjRw/pNC3iH//4By4uLnh4eDBs2DCoD9Fnn30WgNu3b0u2MAwipFqZTCYjNjYWV1dXXn75ZXJzc7WLsG5ubty4cQMAb29v7O3t6datG46OjpiZmWn/8TkgIAAHBwe+/fZbyeytR3p4OHz4cDp16kRBQcGf3rNrrsDAQMaPH0/Pnj1Zs2aN9n1Tq9VUV1dr9zQ0Gg0+Pj688MILxMfHs3z5cnbv3o2zszOHDx+WTqsjISGB0NDQJj/mzZvXaoeRJSUl3Llzh7Nnz5Kfnw9A3759sbCwoLy8XBvShkaEVCsbNmwYgwYNwtTUFHNzc2QymfZRV1enDaKzZ89SVlZG79696dWrF9999x3Dhg1j3759TJkyhR07dpCZmSmdvtXs37+f6upqQkJCyM7OZsSIEdTV1bXpXtSoUaN49tlntWc17z3uXTdE/QkHpVLJjBkzSEpKQqFQ4Ofnh62tLevXr+err76STqu3PvvsM44ePYqDgwMLFy4kPj6emTNncvfuXZKTk3XOaBoSg12Ton6NpW/fvuTn5//p9ZKWpFKpsLS05PDhw9y6davB8+b6s2tSMpkMJycnfvnlFxwdHblz5w5hYWF07txZe6avOf7qmlRjlEol1F9fRP3an0Kh4Pvvv2+VdaO24O7uzpAhQ5DJZBQWFpKamvrEfi8t4dHn0xvRuXPnhdK2J4lSqeSFF16gXbt2XLhwoc0OYx6msLCQc+fOUVNT88DnzdW5c2e6du1KTk4OZWVl0u6HSkpKIigoCDMzM9auXYuPjw9DhgwhLy+PNWvWSIc/Uo8ePXjmmWfIzs6Wdv1lJSUllJSUaJ+XlpZSUFDAzZs3dcY9SS5dusTBgwfZv38/ubm5T/T30hIMOqRqa2txc3PDysqKmzdvcvDgQemQJ1phYSGZmZnNCijq14KMjY3ZsWMHTk5OTJ06lYsXL7Jw4UJKS0ulwx/pp59+apWAEgyDQYfUpUuX6N27N/369cPKyoqTJ08a9G71PWZmZrz44ou4ubnh4uLCnj17mDVrlnhvhMfCoNekuO9KZpVKxbFjx5g2bdqfWv8RBKF1GPSeFEBNTQ35+fk4Ojri7OzM3//+d/79738b/DqAIOgLgw8p6hdb9+zZw3PPPYeHhwd9+/Zl165d0mGCIDwGBn+4JwiCfhMXcwqCoNdESAmCoNdESAmCoNdESAmCoNdESAmCoNdESAmCoNdESAmCoNdESAmCoNdESAmCoNdESAmCoNdESAmCoNdESAmCoNdESAmCoNdESAmCoNdESAmCoNdESAmCoNdESAmCoNdESAmCoNdESAmCoNdESAmCoNdESAmCoNdESAmCoNdESAmCoNdESAmCoNdESAmCoNdESAmCoNf+D4mq+9KCFYkaAAAAAElFTkSuQmCC)"
      ],
      "metadata": {
        "id": "RfBt19zhga-p"
      }
    },
    {
      "cell_type": "markdown",
      "source": [
        "![M.png](data:image/png;base64,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)"
      ],
      "metadata": {
        "id": "mB0qqs1eg7Aj"
      }
    },
    {
      "cell_type": "code",
      "source": [
        "import numpy as np\n",
        "\n",
        "# Coefficient matrix (A)\n",
        "A = np.array([[2, 1, -1],\n",
        "              [-3, -1, 2],\n",
        "              [-2, 1, 2]])\n",
        "\n",
        "# Constant matrix (B)\n",
        "B = np.array([8, -11, -3])\n",
        "\n",
        "# Solve for X (i.e., [x, y, z])\n",
        "X = np.linalg.solve(A, B)\n",
        "\n",
        "print(\"Solutions (x, y, z):\", X)\n"
      ],
      "metadata": {
        "id": "lbGJtG4kgAsi"
      },
      "execution_count": null,
      "outputs": []
    },
    {
      "cell_type": "markdown",
      "source": [
        "![O.png](data:image/png;base64,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)"
      ],
      "metadata": {
        "id": "ZIKJSGZ7ihUq"
      }
    },
    {
      "cell_type": "markdown",
      "source": [
        "# **3. Statistics & Data Analysis (using Pandas)**"
      ],
      "metadata": {
        "id": "YQmhn9WyiyyM"
      }
    },
    {
      "cell_type": "markdown",
      "source": [
        "## **Data Summary**"
      ],
      "metadata": {
        "id": "tZLA3stwi2Fq"
      }
    },
    {
      "cell_type": "code",
      "source": [
        "import numpy as np\n",
        "import pandas as pd\n",
        "import matplotlib.pyplot as plt\n",
        "from scipy import stats\n",
        "\n",
        "# Create a sample dataset with student names\n",
        "data = {\n",
        "    'Student': ['Ali', 'Sara', 'Ahmed', 'Hina', 'Bilal', 'Ayesha', 'Usman', 'Fatima', 'Omar', 'Laiba'],\n",
        "    'Math_Score': [78, 85, 62, 90, 70, 88, 76, 95, 89, 65],\n",
        "    'Science_Score': [82, 80, 60, 92, 68, 91, 77, 97, 85, 70]\n",
        "}\n",
        "\n",
        "# Convert to DataFrame\n",
        "df = pd.DataFrame(data)\n",
        "print(\" Dataset:\\n\", df)\n",
        "\n",
        "# --- Descriptive Statistics ---\n",
        "mean_math = np.mean(df['Math_Score'])\n",
        "median_math = np.median(df['Math_Score'])\n",
        "mode_math = stats.mode(df['Math_Score'], keepdims=True)[0][0]\n",
        "\n",
        "variance_math = np.var(df['Math_Score'], ddof=1)    #ddof=1 → means we’re calculating sample variance (not population variance).\n",
        "std_math = np.std(df['Math_Score'], ddof=1)\n",
        "\n",
        "print(\"\\n Math Scores Summary:\")\n",
        "print(f\"Mean = {mean_math:.2f}\")\n",
        "print(f\"Median = {median_math}\")\n",
        "print(f\"Mode = {mode_math}\")\n",
        "print(f\"Variance = {variance_math:.2f}\")\n",
        "print(f\"Standard Deviation = {std_math:.2f}\")\n",
        "\n",
        "# --- Correlation between Math and Science Scores ---\n",
        "corr = df['Math_Score'].corr(df['Science_Score'])\n",
        "print(f\"\\n Correlation between Math and Science: {corr:.2f}\")\n",
        "\n",
        "# --- Visualization ---\n",
        "plt.figure(figsize=(12,5))\n",
        "\n",
        "# Histogram for Math scores\n",
        "plt.subplot(1,2,1)          #plt.subplot(rows, columns, plot_number)\n",
        "plt.hist(df['Math_Score'], bins=5, edgecolor='black')\n",
        "plt.title('Distribution of Math Scores')\n",
        "plt.xlabel('Score')\n",
        "plt.ylabel('Frequency')\n",
        "\n",
        "# Scatter Plot for correlation (with names)\n",
        "plt.subplot(1,2,2)\n",
        "plt.scatter(df['Math_Score'], df['Science_Score'])\n",
        "\n",
        "# Label each point with student name\n",
        "for i, student in enumerate(df['Student']):\n",
        "    plt.text(df['Math_Score'][i]+0.3, df['Science_Score'][i]+0.3, student, fontsize=9)\n",
        "\n",
        "plt.title('Math vs Science Scores')\n",
        "plt.xlabel('Math Score')\n",
        "plt.ylabel('Science Score')\n",
        "\n",
        "plt.tight_layout()\n",
        "plt.show()\n"
      ],
      "metadata": {
        "id": "d2ZUcBV7iYaB"
      },
      "execution_count": null,
      "outputs": []
    },
    {
      "cell_type": "markdown",
      "source": [
        "# **4. Graphs and Visualization (using Matplotlib)**"
      ],
      "metadata": {
        "id": "huudrpHGjBek"
      }
    },
    {
      "cell_type": "markdown",
      "source": [
        "![P.png](data:image/png;base64,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)"
      ],
      "metadata": {
        "id": "W5Em7qlCjKWJ"
      }
    },
    {
      "cell_type": "code",
      "source": [
        "import numpy as np\n",
        "import matplotlib.pyplot as plt\n",
        "\n",
        "x = np.linspace(-10, 10, 100)\n",
        "y = x**2 + 2*x + 1\n",
        "\n",
        "plt.plot(x, y, color='purple', label='y = x² + 2x + 1')\n",
        "plt.title(\"Graph of a Parabola\")\n",
        "plt.xlabel(\"x\")\n",
        "plt.ylabel(\"y\")\n",
        "plt.legend()\n",
        "plt.grid(True)\n",
        "plt.show()\n"
      ],
      "metadata": {
        "id": "SadJV407hR8j"
      },
      "execution_count": null,
      "outputs": []
    },
    {
      "cell_type": "code",
      "source": [
        "import numpy as np\n",
        "import matplotlib.pyplot as plt\n",
        "\n",
        "# Generate 200 points between 0 and 2π (one full cycle)\n",
        "x = np.linspace(0, 2 * np.pi, 200)\n",
        "\n",
        "# Define the functions\n",
        "y1 = np.sin(x)\n",
        "y2 = np.cos(x)\n",
        "\n",
        "# Plot both functions\n",
        "plt.plot(x, y1, label='sin(x)', color='blue', linestyle='-')\n",
        "plt.plot(x, y2, label='cos(x)', color='red', linestyle='--')\n",
        "\n",
        "# Add labels and title\n",
        "plt.title(\"Sine and Cosine Waves\")\n",
        "plt.xlabel(\"Angle (radians)\")\n",
        "plt.ylabel(\"Value\")\n",
        "\n",
        "# Add legend and grid\n",
        "plt.legend()\n",
        "plt.grid(True)\n",
        "\n",
        "# Display the plot\n",
        "plt.show()\n"
      ],
      "metadata": {
        "id": "F-BE2gACy4LF"
      },
      "execution_count": null,
      "outputs": []
    },
    {
      "cell_type": "markdown",
      "source": [
        "# **5. Linear Regression (using scikit-learn)**"
      ],
      "metadata": {
        "id": "ymUWHURSjRA5"
      }
    },
    {
      "cell_type": "markdown",
      "source": [
        "![q.png](data:image/png;base64,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)"
      ],
      "metadata": {
        "id": "A2K0RHrLjaiy"
      }
    },
    {
      "cell_type": "code",
      "source": [
        "from sklearn.linear_model import LinearRegression\n",
        "\n",
        "# Simple dataset\n",
        "X = np.array([[1], [2], [3], [4], [5]])  # input (independent variable)\n",
        "y = np.array([3, 4, 2, 5, 6])            # output (dependent variable)\n",
        "\n",
        "model = LinearRegression()\n",
        "model.fit(X, y)\n",
        "\n",
        "# Predict for x = 6\n",
        "pred = model.predict([[6]])\n",
        "\n",
        "print(\"Coefficient (m):\", model.coef_)\n",
        "print(\"Intercept (c):\", model.intercept_)\n",
        "print(\"Predicted y when x=6:\", pred)\n"
      ],
      "metadata": {
        "id": "0jX_U6hZjNiC"
      },
      "execution_count": null,
      "outputs": []
    },
    {
      "cell_type": "code",
      "source": [],
      "metadata": {
        "id": "xxmyIPQCjeWS"
      },
      "execution_count": null,
      "outputs": []
    },
    {
      "cell_type": "markdown",
      "source": [
        "1. Algebra → Equations → Symbolic Solvers (SymPy)\n",
        "2. Linear Algebra → Matrices → Neural Networks (NumPy)\n",
        "3. Statistics → Data Summaries → Data Science (Pandas)\n",
        "4. Graphs → Visualization → Pattern Recognition (Matplotlib)\n",
        "5. Optimization → Regression → Machine Learning (scikit-learn)\n"
      ],
      "metadata": {
        "id": "-6jJykApjghq"
      }
    },
    {
      "cell_type": "code",
      "source": [],
      "metadata": {
        "id": "X0yB18_tjhHZ"
      },
      "execution_count": null,
      "outputs": []
    }
  ]
}