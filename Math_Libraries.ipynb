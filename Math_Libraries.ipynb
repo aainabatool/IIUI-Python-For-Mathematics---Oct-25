{
  "nbformat": 4,
  "nbformat_minor": 0,
  "metadata": {
    "colab": {
      "provenance": [],
      "authorship_tag": "ABX9TyMib5vF7TTQ6RCWedCpyh7m",
      "include_colab_link": true
    },
    "kernelspec": {
      "name": "python3",
      "display_name": "Python 3"
    },
    "language_info": {
      "name": "python"
    }
  },
  "cells": [
    {
      "cell_type": "markdown",
      "metadata": {
        "id": "view-in-github",
        "colab_type": "text"
      },
      "source": [
        "<a href=\"https://colab.research.google.com/github/aainabatool/IIUI-Python-For-Mathematics---Oct-25/blob/main/Math_Libraries.ipynb\" target=\"_parent\"><img src=\"https://colab.research.google.com/assets/colab-badge.svg\" alt=\"Open In Colab\"/></a>"
      ]
    },
    {
      "cell_type": "markdown",
      "source": [
        "## **The math Library**"
      ],
      "metadata": {
        "id": "yEj7ttPDRas2"
      }
    },
    {
      "cell_type": "markdown",
      "source": [
        "\n",
        "\n",
        "“The math library turns Python into a scientific calculator — but programmable!”"
      ],
      "metadata": {
        "id": "j2aGbJeeR9A3"
      }
    },
    {
      "cell_type": "code",
      "source": [
        "import math\n"
      ],
      "metadata": {
        "id": "xNqGNRmPRhZp"
      },
      "execution_count": null,
      "outputs": []
    },
    {
      "cell_type": "code",
      "execution_count": null,
      "metadata": {
        "id": "QrRvfbnkRaGQ"
      },
      "outputs": [],
      "source": [
        "x = 16\n",
        "print(\"Square root:\", math.sqrt(x))\n",
        "print(\"Power (2^3):\", math.pow(2, 3))\n",
        "print(\"Log base e:\", math.log(10))\n",
        "print(\"Sin(90°):\", math.sin(math.radians(90)))\n",
        "print(\"Pi value:\", math.pi)\n",
        "print(\"Factorial of 5:\", math.factorial(5))\n"
      ]
    },
    {
      "cell_type": "markdown",
      "source": [
        "## **NumPy — Mathematics with Arrays & Matrices**"
      ],
      "metadata": {
        "id": "PX2yZ3vsSFqg"
      }
    },
    {
      "cell_type": "markdown",
      "source": [
        "NumPy stands for Numerical Python.\n",
        "It is used for:\n",
        "1. Handling large numeric data efficiently\n",
        "2.  Doing vector & matrix operations\n",
        "\n",
        "\n",
        "\n"
      ],
      "metadata": {
        "id": "lagVpbmZSLAt"
      }
    },
    {
      "cell_type": "code",
      "source": [
        "import numpy as np"
      ],
      "metadata": {
        "id": "xn3skEWDSHWl"
      },
      "execution_count": null,
      "outputs": []
    },
    {
      "cell_type": "code",
      "source": [
        "# Create arrays\n",
        "a = np.array([1, 2, 3])\n",
        "b = np.array([4, 5, 6])\n",
        "\n",
        "print(\"a:\", a)\n",
        "print(\"b:\", b)\n",
        "\n",
        "# Element-wise operations\n",
        "print(\"Addition:\", a + b)\n",
        "print(\"Multiplication:\", a * b)\n",
        "\n",
        "# Mathematical functions\n",
        "print(\"Mean:\", np.mean(a))\n",
        "print(\"Standard deviation:\", np.std(a))\n",
        "\n",
        "# Matrix operations\n",
        "A = np.array([[1, 2], [3, 4]])\n",
        "B = np.array([[5, 6], [7, 8]])\n",
        "\n",
        "print(\"Matrix A+B:\\n\", A + B)\n",
        "print(\"Matrix A*B:\\n\", np.dot(A, B))"
      ],
      "metadata": {
        "id": "7GSdW8-bSdzB"
      },
      "execution_count": null,
      "outputs": []
    },
    {
      "cell_type": "markdown",
      "source": [
        "## **Pandas:**"
      ],
      "metadata": {
        "id": "DhHNRpmvWKcP"
      }
    },
    {
      "cell_type": "code",
      "source": [
        "import pandas as pd\n"
      ],
      "metadata": {
        "id": "SvoaMkdeWPfg"
      },
      "execution_count": null,
      "outputs": []
    },
    {
      "cell_type": "code",
      "source": [
        "\n",
        "# Create data as a dictionary\n",
        "data = {\n",
        "    \"Name\": [\"Ali\", \"Sara\", \"Ahmed\", \"Hira\"],\n",
        "    \"Math_Score\": [88, 92, 79, 95],\n",
        "    \"AI_Score\": [85, 89, 76, 90]\n",
        "}\n",
        "\n",
        "# Convert to DataFrame\n",
        "df = pd.DataFrame(data)\n",
        "\n",
        "# Display table\n",
        "print(df)\n"
      ],
      "metadata": {
        "id": "Kmgg-1ACWNGm"
      },
      "execution_count": null,
      "outputs": []
    },
    {
      "cell_type": "code",
      "source": [
        "print(\"Average Math Score:\", df[\"Math_Score\"].mean())\n",
        "print(\"Highest AI Score:\", df[\"AI_Score\"].max())\n",
        "print(\"Students with Math > 85:\\n\", df[df[\"Math_Score\"] > 85])\n"
      ],
      "metadata": {
        "id": "I6izcvU9WX23"
      },
      "execution_count": null,
      "outputs": []
    },
    {
      "cell_type": "code",
      "source": [
        "df[\"Average\"] = (df[\"Math_Score\"] + df[\"AI_Score\"]) / 2\n",
        "print(df)\n"
      ],
      "metadata": {
        "id": "FqimXwjxWfMH"
      },
      "execution_count": null,
      "outputs": []
    },
    {
      "cell_type": "markdown",
      "source": [
        "## **Scikit-learn — Applying Math to Build an AI Model**"
      ],
      "metadata": {
        "id": "obAayLvsWjYQ"
      }
    },
    {
      "cell_type": "markdown",
      "source": [
        "Predicting Student AI Score from Math Score\n",
        "y=mx+c\n",
        "to predict AI_Score (y) from Math_Score (x)."
      ],
      "metadata": {
        "id": "DZKCMW1ZWpi2"
      }
    },
    {
      "cell_type": "markdown",
      "source": [
        "\n",
        "\n",
        "* m (slope) = how much y changes when x increases by 1\n",
        "* c (intercept) = value of y when x = 0\n",
        "\n",
        "\n"
      ],
      "metadata": {
        "id": "GbqIijTRXMOP"
      }
    },
    {
      "cell_type": "code",
      "source": [
        "import pandas as pd\n",
        "from sklearn.linear_model import LinearRegression\n",
        "\n",
        "# Step 1: Data\n",
        "data = {\n",
        "    \"Math_Score\": [88, 92, 79, 95, 72, 85, 90],\n",
        "    \"AI_Score\": [84, 89, 78, 92, 70, 83, 88]\n",
        "}\n",
        "df = pd.DataFrame(data)\n",
        "\n",
        "# Step 2: Define X and y\n",
        "X = df[[\"Math_Score\"]]   # input (2D)\n",
        "y = df[\"AI_Score\"]       # output (1D)\n",
        "\n",
        "# Step 3: Train the model\n",
        "model = LinearRegression()\n",
        "model.fit(X, y)\n",
        "\n",
        "# Step 4: Print equation\n",
        "print(\"Slope (m):\", model.coef_[0])\n",
        "print(\"Intercept (c):\", model.intercept_)\n",
        "\n",
        "# Step 5: Predict\n",
        "predicted = model.predict([[85]])\n",
        "print(\"Predicted AI score for Math=85:\", predicted[0])\n"
      ],
      "metadata": {
        "id": "bR9E9B_RWkv_"
      },
      "execution_count": null,
      "outputs": []
    },
    {
      "cell_type": "markdown",
      "source": [
        "## **SymPy — Symbolic Mathematics (Like Algebra)**"
      ],
      "metadata": {
        "id": "wr8azDHrSq-A"
      }
    },
    {
      "cell_type": "markdown",
      "source": [
        "SymPy lets Python do algebra — like solving equations, simplifying expressions, derivatives, and integration."
      ],
      "metadata": {
        "id": "_tt1qTz_SyQo"
      }
    },
    {
      "cell_type": "code",
      "source": [
        "import sympy as sp"
      ],
      "metadata": {
        "id": "u2aFPVjHSxke"
      },
      "execution_count": null,
      "outputs": []
    },
    {
      "cell_type": "code",
      "source": [
        "# Define variable\n",
        "x = sp.Symbol('x')\n",
        "\n",
        "# Algebraic operations\n",
        "expr = x**2 + 2*x + 1\n",
        "print(\"Expression:\", expr)\n",
        "print(\"Expanded:\", sp.expand(expr))\n",
        "print(\"Factored:\", sp.factor(expr))\n",
        "\n",
        "# Solving equations\n",
        "solution = sp.solve(x**2 - 4, x)\n",
        "print(\"Solutions of x² - 4 = 0:\", solution)\n",
        "\n",
        "# Derivative and integration\n",
        "print(\"Derivative of x³:\", sp.diff(x**3, x))\n",
        "print(\"Integral of x²:\", sp.integrate(x**2, x))"
      ],
      "metadata": {
        "id": "Y70zzVmaSu1O"
      },
      "execution_count": null,
      "outputs": []
    },
    {
      "cell_type": "markdown",
      "source": [
        "## **Matplotlib — Visualizing Mathematics**"
      ],
      "metadata": {
        "id": "uxUZpVuNTRxX"
      }
    },
    {
      "cell_type": "markdown",
      "source": [
        "This library lets you plot graphs of mathematical functions easily."
      ],
      "metadata": {
        "id": "KGG-I2JPTYJ-"
      }
    },
    {
      "cell_type": "code",
      "source": [
        "import numpy as np\n",
        "import matplotlib.pyplot as plt\n",
        "\n",
        "# Create x values\n",
        "x = np.linspace(-10, 10, 100)\n",
        "y = x**2  # y = x²\n",
        "\n",
        "plt.plot(x, y, color='blue')\n",
        "plt.title(\"Graph of y = x²\")\n",
        "plt.xlabel(\"x-axis\")\n",
        "plt.ylabel(\"y-axis\")\n",
        "plt.grid(True)\n",
        "plt.show()\n"
      ],
      "metadata": {
        "id": "HpA5Q5EFTXPv"
      },
      "execution_count": null,
      "outputs": []
    }
  ]
}