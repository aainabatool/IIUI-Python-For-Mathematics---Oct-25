{
  "nbformat": 4,
  "nbformat_minor": 0,
  "metadata": {
    "colab": {
      "provenance": [],
      "authorship_tag": "ABX9TyPY23dlS78ikg6SFbp9o1Ng",
      "include_colab_link": true
    },
    "kernelspec": {
      "name": "python3",
      "display_name": "Python 3"
    },
    "language_info": {
      "name": "python"
    }
  },
  "cells": [
    {
      "cell_type": "markdown",
      "metadata": {
        "id": "view-in-github",
        "colab_type": "text"
      },
      "source": [
        "<a href=\"https://colab.research.google.com/github/aainabatool/IIUI-Python-For-Mathematics---Oct-25/blob/main/Intro_Python.ipynb\" target=\"_parent\"><img src=\"https://colab.research.google.com/assets/colab-badge.svg\" alt=\"Open In Colab\"/></a>"
      ]
    },
    {
      "cell_type": "code",
      "execution_count": null,
      "metadata": {
        "id": "5zW8QGcL3Lyb"
      },
      "outputs": [],
      "source": [
        "print(\"Welcome to Python for Mathematics!\")\n",
        "print(\"Let's make math fun with Python \")\n"
      ]
    },
    {
      "cell_type": "markdown",
      "source": [
        "## **Variables and Data Types**"
      ],
      "metadata": {
        "id": "-RLWUQcU5NCW"
      }
    },
    {
      "cell_type": "code",
      "source": [
        "# Integer\n",
        "a = 5\n",
        "# Float\n",
        "b = 2.5\n",
        "# String\n",
        "name = \"Aaina\"\n",
        "# Boolean\n",
        "is_math_fun = True\n",
        "\n",
        "print(a, b, name, is_math_fun)\n",
        "print(type(a), type(b), type(name), type(is_math_fun))\n"
      ],
      "metadata": {
        "id": "L_n7kgyb5IkB"
      },
      "execution_count": null,
      "outputs": []
    },
    {
      "cell_type": "markdown",
      "source": [
        "## **Input / Output**"
      ],
      "metadata": {
        "id": "JNxRAD4V5dYb"
      }
    },
    {
      "cell_type": "code",
      "source": [
        "num = int(input(\"Enter a number: \"))\n",
        "print(\"You entered:\", num)\n",
        "print(\"Square of your number is:\", num ** 2)\n"
      ],
      "metadata": {
        "id": "8N_miq2b5Uw5"
      },
      "execution_count": null,
      "outputs": []
    },
    {
      "cell_type": "markdown",
      "source": [
        "## **Operators**"
      ],
      "metadata": {
        "id": "aPAwDpf05oSY"
      }
    },
    {
      "cell_type": "code",
      "source": [
        "x, y = 10, 3\n",
        "print(\"Addition:\", x + y)\n",
        "print(\"Subtraction:\", x - y)\n",
        "print(\"Multiplication:\", x * y)\n",
        "print(\"Division:\", x / y)\n",
        "print(\"Floor Division:\", x // y)\n",
        "print(\"Power:\", x ** y)\n",
        "print(\"Modulus:\", x % y)\n"
      ],
      "metadata": {
        "id": "bkaxSWRc5lDN"
      },
      "execution_count": null,
      "outputs": []
    },
    {
      "cell_type": "markdown",
      "source": [
        "-10//3 -> Floor division always rounds down (toward -∞), so it goes to the lower integer, -4."
      ],
      "metadata": {
        "id": "9c3dAGT4Ly8w"
      }
    },
    {
      "cell_type": "markdown",
      "source": [
        "## **Comparison Operators**"
      ],
      "metadata": {
        "id": "l8k-xzTC50qR"
      }
    },
    {
      "cell_type": "code",
      "source": [
        "print(x > y)\n",
        "print(x == y)\n",
        "print(x != y)\n"
      ],
      "metadata": {
        "id": "5aVcoclw5sno"
      },
      "execution_count": null,
      "outputs": []
    },
    {
      "cell_type": "markdown",
      "source": [
        "## **Logical Operators**"
      ],
      "metadata": {
        "id": "AEwtWYoc58-L"
      }
    },
    {
      "cell_type": "code",
      "source": [
        "a, b = True, False\n",
        "print(a and b)\n",
        "print(a or b)\n",
        "print(not b)\n"
      ],
      "metadata": {
        "id": "QZ1lQ3NS54ki"
      },
      "execution_count": null,
      "outputs": []
    },
    {
      "cell_type": "markdown",
      "source": [
        "## **Assignment Operators**"
      ],
      "metadata": {
        "id": "Ebde9wcN6GnW"
      }
    },
    {
      "cell_type": "code",
      "source": [
        "z = 5\n",
        "z += 3   # same as z = z + 3\n",
        "print(z)\n"
      ],
      "metadata": {
        "id": "TDUDL8L66BXi"
      },
      "execution_count": null,
      "outputs": []
    },
    {
      "cell_type": "markdown",
      "source": [
        "## **Control Flow**"
      ],
      "metadata": {
        "id": "3iedY5Kh6QDn"
      }
    },
    {
      "cell_type": "code",
      "source": [
        "marks = int(input(\"Enter your marks: \"))\n",
        "\n",
        "if marks >= 80:\n",
        "    print(\"Grade: A\")\n",
        "elif marks >= 60:\n",
        "    print(\"Grade: B\")\n",
        "else:\n",
        "    print(\"Grade: C\")\n"
      ],
      "metadata": {
        "id": "3d74I6r-6O7P"
      },
      "execution_count": null,
      "outputs": []
    },
    {
      "cell_type": "markdown",
      "source": [
        "## **Loops**"
      ],
      "metadata": {
        "id": "DGYWagWo6ZvK"
      }
    },
    {
      "cell_type": "code",
      "source": [
        "# For loop\n",
        "for i in range(1, 6):\n",
        "    print(\"Count:\", i)\n",
        "\n",
        "# While loop\n",
        "n = 3\n",
        "while n > 0:\n",
        "    print(\"n =\", n)\n",
        "    n -= 1\n"
      ],
      "metadata": {
        "id": "xb60F7dt6L2M"
      },
      "execution_count": null,
      "outputs": []
    },
    {
      "cell_type": "markdown",
      "source": [
        "## **Break and Continue**"
      ],
      "metadata": {
        "id": "0CDnaox26i6H"
      }
    },
    {
      "cell_type": "code",
      "source": [
        "for i in range(1, 6):\n",
        "    if i == 3:\n",
        "        continue  # skip when i = 3\n",
        "    print(i)\n"
      ],
      "metadata": {
        "id": "FivAH8qf6e1a"
      },
      "execution_count": null,
      "outputs": []
    },
    {
      "cell_type": "markdown",
      "source": [
        "# **Data Structures**"
      ],
      "metadata": {
        "id": "2xpZvIHI64UN"
      }
    },
    {
      "cell_type": "markdown",
      "source": [
        "## **List**"
      ],
      "metadata": {
        "id": "aqd9YU9o7Djy"
      }
    },
    {
      "cell_type": "code",
      "source": [
        "numbers = [2, 4, 6, 8]\n",
        "print(\"List:\", numbers)\n",
        "numbers.append(10)\n",
        "print(\"After append:\", numbers)\n",
        "print(\"First element:\", numbers[0])\n"
      ],
      "metadata": {
        "id": "B59uqFKj6vr0"
      },
      "execution_count": null,
      "outputs": []
    },
    {
      "cell_type": "code",
      "source": [
        "print(\"Last element:\", numbers[-1])\n",
        "print(\"Second last:\", numbers[-2])\n"
      ],
      "metadata": {
        "id": "Z26aoxxb8J7H"
      },
      "execution_count": null,
      "outputs": []
    },
    {
      "cell_type": "code",
      "source": [
        "numbers.insert(2, 5)    # Insert 5 at index 2\n",
        "print(\"After adding:\", numbers)"
      ],
      "metadata": {
        "id": "5CBEvDWP8Nvc"
      },
      "execution_count": null,
      "outputs": []
    },
    {
      "cell_type": "markdown",
      "source": [
        "## **Tuple**"
      ],
      "metadata": {
        "id": "SWeDWEjh7Wp3"
      }
    },
    {
      "cell_type": "code",
      "source": [
        "t = (1, 2, 3)\n",
        "print(\"Tuple:\", t)\n",
        "# t[0] = 5  #  This will give error (immutable)\n"
      ],
      "metadata": {
        "id": "BfvlD2ZI7RL4"
      },
      "execution_count": null,
      "outputs": []
    },
    {
      "cell_type": "markdown",
      "source": [
        "## **Set**"
      ],
      "metadata": {
        "id": "tcVO6hnc7erG"
      }
    },
    {
      "cell_type": "code",
      "source": [
        "s = {1, 2, 3, 3, 4}\n",
        "print(\"Set (no duplicates):\", s)\n",
        "s.add(5)\n",
        "print(\"After add:\", s)\n"
      ],
      "metadata": {
        "id": "BY-CQSWQ7bZb"
      },
      "execution_count": null,
      "outputs": []
    },
    {
      "cell_type": "markdown",
      "source": [
        "## **Dictionaries**"
      ],
      "metadata": {
        "id": "eR_zvTc277uv"
      }
    },
    {
      "cell_type": "code",
      "source": [
        "student = {\n",
        "    \"name\": \"Aaina\",\n",
        "    \"age\": 21,\n",
        "    \"major\": \"Mathematics\"\n",
        "}\n",
        "\n",
        "print(student)\n"
      ],
      "metadata": {
        "id": "xivUosWo7l-e"
      },
      "execution_count": null,
      "outputs": []
    },
    {
      "cell_type": "code",
      "source": [
        "print(\"Name:\", student[\"name\"])\n",
        "print(\"Major:\", student[\"major\"])\n"
      ],
      "metadata": {
        "id": "dZHFBrBT742D"
      },
      "execution_count": null,
      "outputs": []
    },
    {
      "cell_type": "markdown",
      "source": [
        "# **Functions**"
      ],
      "metadata": {
        "id": "cHIlkHJW8Uo8"
      }
    },
    {
      "cell_type": "markdown",
      "source": [
        "## **Defining and Using Functions**"
      ],
      "metadata": {
        "id": "sXF5rjee8W7o"
      }
    },
    {
      "cell_type": "code",
      "source": [
        "def square(x):\n",
        "    return x * x\n",
        "\n",
        "num = int(input(\"Enter a number: \"))\n",
        "print(\"Square is:\", square(num))\n"
      ],
      "metadata": {
        "id": "7sNjjA5A76nH"
      },
      "execution_count": null,
      "outputs": []
    },
    {
      "cell_type": "markdown",
      "source": [
        "## **Function with Multiple Arguments**"
      ],
      "metadata": {
        "id": "s7C3LyrO8f1K"
      }
    },
    {
      "cell_type": "code",
      "source": [
        "def add(a, b):\n",
        "    return a + b\n",
        "\n",
        "print(\"Sum:\", add(10, 20))\n"
      ],
      "metadata": {
        "id": "5X3XMmmN8daM"
      },
      "execution_count": null,
      "outputs": []
    },
    {
      "cell_type": "markdown",
      "source": [
        "## **Function for Mathematical Operation**"
      ],
      "metadata": {
        "id": "kuzxnTct8l7S"
      }
    },
    {
      "cell_type": "code",
      "source": [
        "import math\n",
        "\n",
        "r = float(input(\"Enter radius: \"))\n",
        "area = math.pi * (r ** 2)\n",
        "print(\"Area of circle:\", area)\n"
      ],
      "metadata": {
        "id": "dshmuXzc8jcf"
      },
      "execution_count": null,
      "outputs": []
    },
    {
      "cell_type": "markdown",
      "source": [
        "# **Example:**"
      ],
      "metadata": {
        "id": "4iurVLvI8yMG"
      }
    },
    {
      "cell_type": "markdown",
      "source": [
        "## **Factorial**"
      ],
      "metadata": {
        "id": "gHdbBdAh9Sm7"
      }
    },
    {
      "cell_type": "code",
      "source": [
        "# Factorial using loop\n",
        "n = int(input(\"Enter number: \"))\n",
        "fact = 1\n",
        "for i in range(1, n + 1):\n",
        "    fact *= i\n",
        "print(\"Factorial:\", fact)\n"
      ],
      "metadata": {
        "id": "viGwIXRd8qR1"
      },
      "execution_count": null,
      "outputs": []
    },
    {
      "cell_type": "markdown",
      "source": [
        "![Z.png](data:image/png;base64,iVBORw0KGgoAAAANSUhEUgAAAv8AAAFyCAYAAABiPbW5AAAAAXNSR0IArs4c6QAAAARnQU1BAACxjwv8YQUAAAAJcEhZcwAADsMAAA7DAcdvqGQAADF3SURBVHhe7d17cJRVnv/xTwgQJEZAicQIY9KSQUBABh3ouBNxGacRysJehNVKVCqObFxF7QloxJFlUGsbMBsVLwiK6Ha8cJledFBawEvc6g4iRIgImUiDGLNho1IaE0i45PfHzzxLPyQQIR0g5/2qSpV9vqdv+OScT5/nPJ2Y1NTURgEAAADo8DrZGwAAAAB0TIR/AAAAwBCEfwAAAMAQhH8AAADAEIR/AAAAwBCEfwAAAMAQhH8AAADAEIR/AAAAwBCEfwAAAMAQhH8AAADAEIR/AAAAwBCEfwAAAMAQhH8AAADAEIR/AAAAwBCEfwAAAMAQhH8AAADAEIR/AAAAwBCEfwAAAMAQhH8AAADAEIR/AAAAwBCEfwAAAMAQMampqY32RqBJ165d1atXL51zzjmKiYmxl884jY2N2r9/v/bt26eGhgZ7GQAAwGis/KNFXbt2VXJysrp3735WBH9JiomJUffu3ZWcnKyuXbvaywAAAEYj/KNFvXr1OmtCv11MTIx69eplbwYAADAa4f8M4fF4VFZWJq/Xay+dUNN9w+HwSd2/Jeecc4696axytr9+AACAthbV8O/z+RQMBuV0Ou2lk+Z2uxUMBuV2u+0lI7ndbmVnZ8vv98vhcCgvL8/e5aSdrav+Tc721w8AANDWohr+T5XX61VpaWlE0B85cqRqamrk9/sj+raG2+1WaWlpm66Ot5WCggINGDDACu+tfa0pKSmSpL1799pLAAAAQIQzOvw3Z/jw4SopKbE3wxDz58/X+vXrI36mT59u7wYAAIBmnNbw37S6HQ6HFQ6HI7YIBQIBTZ48WfHx8crPz7fOALhcroitLUfvd7c/xtG8Xq/y8/MVHx+vyZMnW/vjPR6PSktLtXjxYpWVlUWcaQgEAtbjNref3v76y8rK5PF4rPrR97fX7Jpeh8fjafG12vl8Pk2bNk3x8fGaNm1axGv3er0Rr93+73K8932m27x5s8aMGWP9PPHEE/YuFp/Pd1a9NwAAgGg6beHf7XZrzpw5Wr16tRwOhxwOh2pqapSfny+n0ymXy6Vly5aptrZWubm5GjJkyDFbfez73TMzM1VZWRnRp0leXp5yc3NVW1urZcuWReyP79q1qwYPHqwpU6ZYz+PxeLRnzx7rtS1btkxut9sK8E0hfcuWLVafoqIi6/kCgYAkWTW/36+cnJzjfgBocrzXerSsrCwtWLBAtbW1WrBggfXafT6f3G63FixYEPFvu2jRoogQ3Nz7bo358+dr/vz5WrJkCavvAAAAZ5HTFv4nTpyoysrKiFC7Zs0aJSQkaNSoURF9W2Lf7x4KhXTTTTcpFArZep5YUVFRxP0KCgp05513Wrc3bNighoYG9enTR5I0duxY7d69W1lZWVafO++8UwUFBfJ4POrdu7cWLlxo1VatWqXvvvtOI0aMsNqiwe12a9iwYfL7/SooKLDam17LyJEjj+p97Pturd/85jf67rvvNGbMGG3evFlXXXWVhg8fbu922mVlZf2iDzYAAAAd2WkL/4mJiUpLS4vYmjJt2rRf9IeZCgoKVFlZqWnTplkr7SejoaGh2Qtmj95S1LQNR5KcTqcSEhJavPagT58+6tWrl/Lz8633VlhYqKSkJHvXNpeSkqKGhgZt2LAhot3v96uyslJ9+/a12lp6363x1VdfacaMGZKkbdu2qUuXLurdu7e92zGmTJmiQCBwzL79JUuW2Lu26De/+c1J3Q8AAMB0py38S1IwGLS2pTT9DBgwIGLF+kRcLpcyMzOVkJCgcDh8Sh8CjhYIBJSTk6OFCxfK4XBY23Baq6qqSpmZmce8v6PPFJho6dKlcrlcEXv2x4wZo+zsbHvXZs2YMcO6z/Tp0xUfH88HAAAAgFY6beG/urpaDoej2Ytzf6lQKKT09HQtW7ZMycnJp3xxp9vtVnJy8jFbZ5qEQiHV1NS0uM1l7969v2j7UlvavXu3unbtesz2nqb3VFFREdHe3tpi5b9JSUmJ9uzZY28GAABAC05b+N+0aZMuuOAC3X333Vab2+3W8uXLrdtNW1Ka9vbbeTweLV682N7coqqqKtXU1ERsfWlOc/1ycnKsbT/6+fqElJQU+Xw+q23x4sXyeDwqLi5WTU2NJk2aFPHhZvny5a3+YNLca2gNv9+vLVu2RFycrJ9ff01NjVatWhXRv72d6sr/0aZMmaKhQ4fqiy++sJcsfNsPAADA/4l6+E9KSlJhYWHE3n6v16uCggItXLhQV111VUR7MBi07nv0nv6WAlxGRoZ1//Hjx2vWrFktXtwZCoVUVFSk9PR06/maEwqFtHz58ojXtmfPnohtP829/sGDB6u4uFihUEi5ubmSFPHe6+vrW3xtdq19rc3JysrSxo0bNW3aNOu5JSk9Pf2kLu49UwwfPlxvvvmmdbbglltu0euvv37cr/oEAADA/4lJTU1ttDcCkpSammpvOuvs2rXL3gQAAGCsqK/8AwAAADgzEP4BAAAAQxD+0aLGxrN7R9jZ/voBAADaGuEfLdq/f7+96axytr9+AACAtkb4R4v27dt31q6eNzY2at++ffZmAAAAoxH+0aKGhgZVVlaqrq7urPkQ0NjYqLq6OlVWVqqhocFeBgAAMBpf9QkAAAAYgpV/AAAAwBCEfwAAAMAQhH8AAADAEIR/AAAAwBCEfwAAAMAQhH8AAADAEIR/AAAAwBCEfwAAAMAQhH8AAADAEIR/AAAAwBCEfwAAAMAQhH8AAADAEIR/AAAAwBCEfwAAAMAQhH8AAADAEIR/AAAAwBCEfwAAAMAQhH8AAADAEIR/AAAAwBCEfwAAAMAQhH8AAADAEIR/AAAAwBCEfwAAAMAQhH8AAADAEIR/AAAAwBCEfwAAAMAQhH8AAADAEIR/AAAAwBBRDf+TJ0/WunXrVF5ernA4rPLycj3zzDP2bkDUzJs3T8XFxbrjjjvsJaDNxMfHq6CgQNu2bVM4HJbX67V3aXNPPPGENm3apMzMTHsp6trj9yotLU3vvPOO3n//faWlpdnLRrrxxhv1/vvva+fOnQoGg3I6nfYup9Xo0aP1wQcf6LXXXlN8fLy9jLOA1+tVOBzW5s2bdcMNN0TUfD6fSktL5Xa7I9rb2qhRo7Rq1SqVl5e3y/OZKGrh/4YbblBeXp4uvvhiBYNB+f1+ffrpp+rSpYskKTMzU8FgUC+//LL9rkCb6dOnj8477zyde+659hLQZrKysuRyufTjjz/K6/XqpZdesndptXnz5mnTpk2677777CXLlClT9Ic//EFFRUUqLCy0l6OuPX6vysvL9eqrr+r888/Xvffeay8bKTs7W/369dP69ev18MMPKxQK2bu0yrXXXqt169Zp9erV9tIpSUxMVM+ePdWjRw9deOGF9jLOIj179tRtt912Wj7EZWdn6/LLL9dnn32mmTNn6r333rN3abWlS5dqw4YNfICwiVr479+/v+Lj47V27Vrdfvvtys3N1S233KJ/+Zd/kSRdeOGFuuCCC6wPA0A03H777Ro0aJCeeuopewloM927d1dsbKx27typRYsWqby83N6l1ZKTk3XuueeqU6eWh+frr79eBw4c0KpVq+yldtFev1dvvPGGysrKNHLkSI0ePdpeNk5cXJwOHDigd999Vx988IG93Go9e/ZUnz591LlzZ3spwu23366cnBzrdnx8vB544IEW/18sX75cw4cP1/jx47Vr1y57GWeRffv2aejQofrXf/1XeynqunfvrkOHDikYDOrtt99WbW2tvUurXXTRRerevbu92Xgtzy6nqK6uTocPH9aVV16p6667LqLm9Xo1bdo0denSRenp6SorK5PH41FaWppeeeUVbd++XTt37tTmzZut1S+Px6OysjK9+eabWrlypcrLy1VWVqZXXnmFU8Jokc/ns44vIBrs41lpaammTp2qxYsX6/PPP7e2PK5YscIaq5KSkvTUU09Z9bKyMj388MMKBAJKT09Xly5dNG3atGa3djidTvXr10979uzRhx9+KB11nOfn5ysUCmnnzp0qKSnRn//8Z0mS2+1WaWmpPvroI61bt047duyQx+PRjTfeqPXr16u8vFzl5eV67733NHr0aP3lL3/Rl19+qUWLFlnP+5e//EXl5eV66qmnjvm9SktL00svvRTxfletWqVRo0ZJkgKBQMTp+6bXEwgEJEnDhw/XihUrrC2in332mbWlqLi4WPHx8UpPT7dei2mcTqeCwaDS0tIUHx+v/Px8+Xw+3XbbbSoqKrL+3UpKSiLOGGVkZFjbJ8LhsDZs2KBnnnlGXq9X8fHxSktLO+42tauuukr33HOPHnzwQcXHx2v+/Pm67bbb9A//8A/2rlIz/19x9vrkk0/0448/6sYbbzxmDGrS0vgxc+ZMlZeX6+mnn5YkjRs3Tps3b44Yz959991mxzf7GBgIBKzxYfv27dZ4uXjxYuusRHPH+b333nvM7wzH5f+JWvj3+XwKBoNKTEzUc889p7/+9a/KyMiQJL322msqLCzUwYMHtWnTJs2YMUPr16/XrFmzlJ6ero8//ljz5s1TfX29br/99oh9Z5dffrnq6ur03HPPqbKyUldffbWmTp161DMDQPuxj2czZ85UZWWlEhMT9frrr+uRRx7R7t27NXz4cP3xj3+UJM2dO1fjx4/XN998oyeffFLvv/++9PMHiU2bNungwYMqLCzUnDlztHXr1ojn69u3r8477zx9+eWXEe2xsbHWnus333xTnTp10k033aSbb77Z6pOcnKzS0lKNGDFCJSUleuCBB9S7d28tWrRIK1asUL9+/eTxeBQMBvX999/rsssu09ChQ6WfA/pPP/2k9evXH/Ws/381eNasWcrIyND27ds1f/58bd68WYMGDdIjjzyi1NTUiP7Nueuuu3TFFVfoo48+0iOPPKKdO3daW4p27typQ4cOKSkpyX43Y2zdulVz5szR7t27VVdXpyeffFLPPvusLr30UlVWVmr27Nl688031a1bN/3zP/+znE6nnE6n/v3f/12XXXaZioqKNH/+fH355ZfasmWLnnnmGdXV1Wn37t3Kzc3Va6+9Zn9KSdKDDz6ooqIi3XrrrXrjjTeUkZGh//zP/9Rjjz1m74oO5ocfftA777yjCy+8UNnZ2fayRo8e3eL4sWPHDtXU1GjAgAGKj4/XFVdcoYSEBPXs2VNDhw7VmDFj1Lt3b1VWVh6zdc0+Bnq9XvXr109xcXF6/vnnNXfuXH3//ffKyMjQ1KlTWzzOKysrj/mdaelDromiFv5ra2v1xz/+UXPnztU333yjYcOG6dlnn9V9992nrVu36vvvv5ck1dfX66233lJKSoqGDh1qrUi98MILeu+995SQkGCtHklSOBxWTk6OCgoK9PLLL+vAgQO6/PLLj3pmAGg/9vHs7bff1t/+9jfdeOONevzxx1VYWKh33nlHhw4d0sUXX6xx48ZpyJAhqqio0D333KOnn35ad911lx5//HF98MEHqq+vlyR9//33WrNmzTGnvPv27avGxkbt3bs3ol2S3nnnHc2cOVMzZ87URx99pISEBA0ZMsSq/8///I9efvll1dbW6rrrrlNiYqLeeustzZ8/Xw899JDKy8uVkpKiuLg47dq1S+eff76uuOIKjRs3Tn379lVFRcUx4X/MmDEaOnSovvrqKz3wwAN6/vnnlZ2drR07duiSSy7R7373u4j+J1JaWqrbbrtNb775piSpurpatbW1Ov/88+1djVFbW6s1a9bo4MGDamxs1Ndff61QKKR/+7d/080336zCwkI99NBD2rNnjxISEpSUlKSxY8eqT58+Wr9+ve644w49//zzyszM1OLFi1VRUaHGxkYdPHhQfr//mA+YTWprazVnzhzt3LlTAwcO1Lp16zR37lx7N3RQ8+bN0xdffCGn06kpU6ZE1I43fsTGxuqbb77R+eefr1GjRmnQoEGqqKjQgQMH5HA4NHjwYMXHx2vbtm0RjynpmDHwgw8+0FtvvaUbbrhBTz/9tF544QV99NFH6tKli/r06dPicb5ixYpjfmdOZatcRxO18N/kxRdf1OjRo629oRMnTrRWko526aWXqlu3bho8eLBKS0sVDod16623KjY2VrGxsVa/H374wZoMa2pq1NjYeNy9sQDQ3pKSkvTEE08oGAzq888/1z333GNd39S/f391795dFRUVp3RtgN3hw4etDyH6eetlTExMxPi5f/9+K+hdcsklio2NVWZmpsLhsMLhsC6//HJ16tRJsbGx+vDDDxUbG6srr7xSI0eOVPfu3fXxxx8f82Gk6cNCVVWVtc+7trZWP/zwg7p06aILLrggon9zlixZom3btumaa67RypUr9eqrr+qiiy6yd4PN5MmT9V//9V8qKSnRjh07IrbApqSk6PDhw6d0jDWd1bn00ku1detW/f73v9eDDz5o74YOqra2Vj6fTwcPHtQtt9wSMZYcb/w4dOiQvvjiCyUkJOi3v/2t+vXrp40bN+q7777TwIED1b9/fx04cEAbNmyIeL6WDB8+XC+88II++eQTbdu2TZMmTbJqbXGcm6jdUvNLL72kqqoq9ejRQykpKfaydu7cqQMHDmjbtm3Kzc2N+Dn6lGS3bt2s/05KSlLnzp2tT4kAcCZ46KGHNGHCBJWVlekvf/mLXnzxRR08eFCStHv3btXX1yspKalVW2LsvvvuO8XExKhPnz4R7Z06ddI555xj3U5MTNSRI0daHB+/+uorHT58WCtWrIgYb2fOnKlQKKTi4mJ9++23GjRokK688kpVV1dr7dq19odp9v3Ex8erR48eqq+v19dff60jR44oJiZGCQkJkqTOnTsrJibGeozi4mJNmDBBt956qz777DMNGzbMWmlMTExUfHy86urqrP74/9supk+frosvvlgvv/yy7r///oitYBUVFYqNjW12vm2tuXPnWlt9br31Vq1du1a33nqrpk+fbu+KDmr58uX68MMPlZqaql//+tdW+4nGj23btunQoUPWwsHnn3+uXbt2qXfv3howYICqq6v10UcfRTxXS/Ly8jR69GiFQiE99NBD8vv9Vq0tjnMTRS38P/roo1q/fr2efvpp5efn65VXXlFKSooqKipUWlqqw4cPq7GxURdffLFmz56t/v37q6KiQr/+9a/lcrnUuXNnDRo0SLfcckvEV00NHjxYzzzzjO69917rk+h///d/Rzw3AJxOPXv2VExMjA4fPqyEhAT9/ve/t1b+169fr927dys1NVXPPfec7r33Xj3//PN6+OGHpZ9X8GNjYzV06FA99thjuuqqqyIe+5tvvtH+/fvVr1+/iPZOnTrJ7XbL4/Fo/vz5+u1vf2udNm/OZ599pp9++kljxozRoEGD1LlzZ1133XUaO3asqqqqVFJSopKSEvXt21eXXHKJ/v73v6ukpMT+MNb7ueSSSzRv3jzdddddWrhwoS677DLt2rVL7777rr7++mudc845mjx5su666y7l5OREfAPH888/r//4j//QRRddpB9++EGNjY1W7dJLL1Xnzp21e/duqw3Seeedp7i4ODU2Nqq+vl4ulyvimCguLtaPP/6oP/zhD3rppZd01113qbCwUDfccIMOHz6sI0eO6Pzzz9ejjz7a4je6FBUV6cknn9TcuXNVW1urP//5z3r11Vf16aef2ruiA3vuuedUUVGhXr16WW0nGj8+/vhjVVdXa/Dgwaqrq9Nnn32m7du3q0ePHurXr5927NhxzFnElpx33nmSpAMHDiglJSViK+HxjnNJOnLkiLp27aprr71Wjz/+uHU/00Ut/H///ffq2bOnrr/+erndbg0ePFhbt27Vo48+ak0I27Zt069+9StNmjRJBw4c0KOPPqodO3ZozJgxmjt3rrKysnTo0CFVVVVZj1teXq4rrrhC9913ny644AKtXLlSzz77bMRzA8Dp9Le//U3V1dW69tpr9ac//UlVVVXWyn9tba1mz56tTz/9VCkpKbr//vv1u9/9Tg0NDdZ9v/vuO11zzTXNfqvK+vXrFQ6HlZaWFvGVi4cOHdLf//533XHHHfqnf/on/fTTT3rqqaesbwSyW758uZ555hk1NDQoOztbXq9XTqdT//u//2v1+eSTT3To0CHp5724zWl6P8XFxbr88ss1Y8YMXXnllSouLtbs2bNVW1ur1157TeFwWAMHDtT999+vqqqqiJX8AwcO6Prrr1d+fr6uvvpqBYNB6w9Cjho1SrW1tQoGg0c9K9avX69PPvlEPXr00AMPPKDLLrss4jqQt99+W/n5+dq7d68yMjI0ffp0/epXv7Iu2t64caN69uypm2++ucWLqZctW6YXX3zRul1bW6t58+a1eEyhYyr/+W9uHP07e6LxY9euXSovL1dsbKy+/PJLbd26VVu3blVdXZ2OHDmiTZs2HfUMx7dmzRrV1dVp0qRJuv322yPOcB3vOG+674EDBzR+/Phmt5ybKiY1NfX/lljOYB6PRzk5Odq4caOysrLsZQAwxpQpU/SnP/1JgUBAM2bMkM/n01VXXaWFCxeqoKDA3v2sdfPNNysvL08bN27UnXfeaS8DAE5C1Fb+AQDRsXTpUr333nv6x3/8R2VmZtrLHUJaWppuu+02/fDDD3ruuefsZQDASSL8A8BZaPr06RoxYoQKCwvtpQ6hvLxc48aN0zXXXNPstQYAgJNz1mz7AQAAAHBqWPkHAAAADEH4BwAAAAxB+AcAAAAMQfgHAAAADEH4BwAAAAxB+AcAAAAMQfgHAAAADBG17/lPTU21NwEAAAA4jaIW/gEAAACcWdj2AwAAABiC8A8AAAAYgvAPAAAAGILwDwAAABiC8A8AAAAYgvAPAAAAGILwDwAAABiC8A8AAAAYgvAPAAAAGILwDwAAABiC8A8AAAAYgvAPAAAAGILwDwAAABiC8A8AAAAYgvAPAAAAGILwDwAAABiiXcK/2+1WMBiU2+22l4B24/P55PP57M1AmwoEAvJ6vfZmoM14PB59+OGHcjqd9lKrMS/jRJgzO66oh3+fz6f8/HwlJCTYS0C7cLvdKi0tVXp6ur0EtBmPx6OysjKlpaXZS0CbCQQCmjZtmrp27WovtRrzMo6HObPji2r49/l8cjgcevnll9XQ0GAvA1Hndrs1Z84crV69WuXl5fYy0CY8Ho+ys7Pl8/lUVVVlLwNtIhAISJKWLVtmL7Ua8zKOhznTDFEN/1lZWUpPT9dPP/1kLwHtwu/3a8iQIcrLy7OXgDZTUFCgIUOGaN26dfYS0GZcLpdcLpe92RIIBBQMBq3tQD6fT6WlpRFbe5iXcTzMmWaIavgHAADtw+VyKRwOKz8/XytWrJDD4dDUqVPl9/vtXQEYjPAPAEAHkZWVpXA4rOTkZOXm5ioUCtm7ADAc4R8AgA7C5/MpMTHROgNwKt8IBKBjIvwDANABBAIBJSYmyuVyWWcAFi1axNd5AohA+AcAoAOwXxCclZWlIUOGsOcfQATCPwAAAGCImNTU1EZ7IwAAAICOh5V/AAAAwBCEfwAAAMAQhH8AAADAEIR/AAAAwBCEfwAAAMAQhH8AAADAEIR/AAAAwBCEfwAAAMAQhH8AAADAEIR/AAAAwBCEfwAAAMAQhH8AAADAEIR/AAAAwBCEfwAAAMAQhH8AAADAEIR/AAAAwBAxqampjfbGthAfH29vAgAAAHAaRS38AwAAADizsO0HAAAAMAThHwAAADAE4R8AAAAwBOEfAAAAMAThHwAAADAE4R8AAAAwBOEfAAAAMAThHwAAADAE4R8AAAAwBOEfAAAAMAThH8BJufLIEa04eFD/1dAgZ2OjvQwAAM5AhH8AJ+XOw4d1UWOjEiX9y6FD9jIAADgDEf4BAAAAQxD+AZyUF2NjtTcmRt9KeqFzZ3sZAACcgWJSU1PZrAsAAAAYgJV/AAAAwBBRDf9er1fhcNj68Xq99i5AVDmdTgWDQesYDAaDcjqd9m5AmwkEAox1iCqPx6MPP/zwpMYy5mUcD3OmGaIW/p1Op/r376/MzEw5HA4tWLBA48ePl8fjsXcFombChAkqKiqSw+GQw+FQTU2NZs+ebe8GnDKPx6OysjKlpaXZS0CbCQQCmjZtmrp27WovnRDzMk6EOdMMsb169YrK/9WKigotW7ZMFRUVkqTi4mLdeOON6tGjh/7617/auwNRsW7dOq1bt866nZiYqFGjRqm6ulo7duyI6AucLI/Ho+zsbL3++uu66KKL9NVXX0Ucd0BbCAQCkqT169frkksu0XvvvWfNsa3BvIwTYc40Q9RW/u2cTqcSEhJ+0UAFtLU+ffqovr5eVVVV9hJw0goKCjRkyBACP6LK5XLJ5XLZmy2BQCBim4bP51Npaancbre9q8S8jFZgzuyY2i38T5gwQQkJCdqwYYO9BLQLp9OpjIwMhcNhhUIhexkAzmoul0vhcFj5+flasWKFHA6Hpk6dKr/fb+8qMS/jBJgzO652Cf9er1dut1tLlixpcRACosnpdCo/P181NTXKysqylwGgQ8jKylI4HFZycrJyc3NbDG3Myzge5syOLerhPxAIKCMjQ1OmTFFBQYG9DESdx+PR0qVLVVRUdNxT5gBwtvP5fEpMTLTOADT3TS3Myzge5syOL6rhPxAIqLq6Wunp6S2uPgDR5PF4lJWVpby8POXl5dnLANBhBAIBJSYmyuVyWWcAFi1aFLHnn3kZx8OcaYaohX+Px6PevXtr5cqV9hLQbsaOHavt27dzWhtAh2e/IDgrK0tDhgyxxj/mZZwIc6YZohb+Jencc89Vfn5+xB8U4Q9GoL2lp6dHHIP8YRsApmJexokwZ3Z8MampqY32RgAAAAAdT1RX/gEAAACcOQj/AAAAgCEI/wAAAIAhCP8AAACAIQj/AAAAgCEI/wAAAIAhCP8AAACAIQj/AAAAgCEI/wAAAIAhCP8AAACAIQj/AAAAgCEI/wAAAIAhCP8AAACAIQj/AAAAgCEI/wAAAIAhCP8AAACAIWJSU1Mb7Y1tIT4+3t4EAAAA4DSKWvgHAAAAcGZh2w8AAABgCMI/AAAAYAjCPwAAAGAIwj8AAABgCMI/AAAAYAjCPwAAAGAIwj8AAABgCMI/AAAAYAjCPwAAAGAIwj8AAABgCMI/AAAAYAjCPwAAAGAIwj8AAABgCMI/AAAAYAjCPwAAAGAIwj8AAABgiKiGf5/Pp3A4bP14vV57FyCq3G63SktLrWMwGAzK6XTauwGnxH6cBQIBexfglB09p5aVlcnj8di7nBDzMlrj6OOEebPjiVr4dzqd6tatmzIzM+VwOLRs2TKNHz9ebrfb3hWImpEjR2r16tVyOBzKzMyUJN199932bsApGTdunJYsWWIdZwkJCfL5fPZuwElzu92Ki4uTw+GQw+GQ3+9Xdnb2L5pTmZfRGoFAwBrLHA6H0tPTFQqF7N1wFovt1avXbHtjW6ioqNCyZctUUVEhSUpISNDVV1+tPXv2qLi42N4diIp169Zp3bp10s/H5LXXXqvExESCGdrU22+/bY1rFRUVSktL0xVXXKEvvvjCGgOBU7Fjxw4tX77cul1bW6vRo0fr8OHD1hh3IszLOBGPx6NRo0bJ6/Vq7dq19jI6iKit/NtNnDhR3377rQoKCuwloF243W4NHDhQa9assZeANtW3b1/V1NSwWoaoSUpKUlxcnPbu3Wu1BQKBiC0aPp9PpaWlLa7sMy/DbsSIEdq+fbv8fr+9hA4kquHf4/GorKxM4XBYkuRyuexdgKgLBAIKh8OaM2eOHnvsMSY6RJXb7dawYcNUUlJiLwFtZuLEiaqvr49YsXe5XAqHw8rPz9eKFSvkcDg0derUiCDHvIzjSUxM1P79+yOuYeK6kI4nquG/oKBAAwYMkMPhkKTjrkAA0eJyueRwODRr1izNmTOHLT+IGrfbrTlz5mjLli3Ky8uzl4E24fP5NGzYMM2fP/+Ys0tZWVkKh8NKTk5Wbm7uMXXmZZzIqFGjNGvWLDkcDi1YsEDjx48/qYvLceaKavg/WlZWliorKzVx4kR7CWgXfr9fS5Ys0cCBA5ns0Oa8Xq+8Xq+WLFmirKwsexk4ZU6nU8FgUImJiRoyZEizWzN8Pp8SExOtMwDH+5YW5mU0Z8uWLdaxVVBQoMrKSo0YMcLeDWexdgv/ANBReb1eZWRkaMqUKWwrQ1Q4nU7l5+erqKioxa06gUBAiYmJcrlc1hmARYsWsdiBVquurrY3oQOKWvj3eDxavHixddvr9SolJUWbNm2K6AdE0/Lly62Jz+l0atKkSfr222+bXTEDTobT6VRGRoaKioqO2WIBtJUJEyZIklatWmUvWVwuV8QHg6ysrIgzBMzLOJFNmzZp2LBh1jYfj8ej5ORkjpEOJiY1NbXR3tgWmva+xsfHS5IOHjyohQsXsiqGduXz+ZSenm7dLi8vb3HVDDgZTSuySUlJEe2MeWhLXq9XkydPtjf/ojGNeRmt4fF4lJOToy5dunCMdFBRC/8AAAAAzixR2/YDAAAA4MxC+AcAAAAMQfgHAAAADEH4BwAAAAxB+AcAAAAMQfgHAAAADEH4BwAAAAxB+AcAAAAMQfgHAAAADEH4BwAAAAxB+AcAAAAMQfgHAAAADEH4BwAAAAxB+AcAAAAMQfgHAAAADEH4BwAAAAwRk5qa2mhvbAvx8fH2JgAAAACnUdTCPwAAAIAzC9t+AAAAAEMQ/gEAAABDEP4BAAAAQxD+AQAAAEMQ/gEAAABDEP4BAAAAQxD+AQAAAEMQ/gEAAABDEP4BAAAAQxD+AQAAAEMQ/gEAAABDEP4BAAAAQxD+AQAAAEMQ/gEAAABDEP4BAAAAQxD+AQAAAEO0W/gPBAIKBoNyOp32EtAuPB6PysrK5PV67SWgTQQCAYXDYYXDYQUCAXsZOGVN41g4HFZZWZk8Ho+9S6sxL8PO6XQqGAxa49jxjg+On7NXu4R/j8ejlJQUezPQrsaOHasuXbrYm4FT1jRhSpLD4ZDD4ZDL5bJ3A06J1+tVTk6OFi5cKIfDoQEDBqigoMDerVWYl9GcCRMmqKioyBrHampqNHv2bHs3jp+zXLuE/7Fjx2r37t32ZqDdeDweJSQkaN++ffYScMomTJggSc1OkkBbcDqdysjIkN/vP+nAfzTmZTQnLy9PeXl51u01a9aod+/ecrvdEf04fs5uUQ//Xq9XCQkJ2rFjh70EtAun06lJkyZp48aNqq+vt5eBUzZ8+HAVFRUpFArZS0CbGDVqlBoaGrRq1Sp7yWLfhuHz+VRaWnpMcGNeRmv16dNH9fX1qqqqsto4fs5+UQ3/brdb1113nZYvX679+/fby0C7uPvuu1VTU6M33njDXgJOmdPpVFxcnC644II224sN2DWFsNmzZ7d4XYnL5VI4HFZ+fr5WrFghh8OhqVOnyu/3W32Yl9FaTWebwuGwtbDB8dMxRDX85+TkaPv27W1yihI4GR6PRwMHDtTChQvtJaDNdO3aVYMHD9aUKVPkcDjk9/uVnZ19zIorcCrS0tJUUlIih8OhzMxMJSQkyOfzRfTJyspSOBxWcnKycnNzjzkbxbyM1nA6ncrPz1dNTY2ysrKsdo6fjiFq4d/n8ykhIUHPPvusvQS0C7fbrezsbK1duzZi5QuIhqO3/axatUo1NTUaOXKkvRtw0qqqqqxtP6FQyLow8+hvW/H5fEpMTLTOANhrzMs4EY/Ho6VLl6qoqCjiiws4fjqOqIR/p9Mph8OhpKQkFRYWKhwOa/LkyUpKStLSpUs5HY52MXLkSMXHx2vy5MkKh8MqLCxUUlKSJk+efMzpcuBkhUIh1dTU2JuBNrV37141NDTYmyMEAgElJibK5XJZZwAWLVokt9vNvIxW8Xg8ysrKOubCX46fjiUmNTW10d4YDV6vVxkZGc2ehgTaQ9NpzKKioohBDThVXq9X48eP16xZs+T3+4+5DZyqpvErHA4rKyvrmNsng3kZdoFAQNXV1a06pjh+zl5RWfkHAJPk5eVp9erVVhgj+KOthUIh5ebmyuFwWGcyTyX4Ay1JT0+3Lipv+uGPY3Ys7bbyDwAAAOD0YuUfAAAAMAThHwAAADAE4R8AAAAwBOEfAAAAMAThHwAAADAE4R8AAAAwBOEfAAAAMAThHwAAADAE4R8AAAAwBOEfAAAAMAThHwAAADAE4R8AAAAwBOEfAAAAMAThHwAAADAE4R8AAAAwBOEfAAAAMERMampqo72xLcTHx9ubAAAAAJxGUQv/AAAAAM4sbPsBAAAADEH4BwAAAAxB+AcAAAAMQfgHAAAADEH4BwAAAAxB+AcAAAAMQfgHAAAADEH4BwAAAAxB+AcAAAAMQfgHAAAADEH4BwAAAAxB+AcAAAAMQfgHAAAADEH4BwAAAAxB+AcAAAAMQfgHAAAADBHV8O/1ehUOh62fsrIyeTweezcgapxOp4LBYMRxGAgE7N2AU+J2u1VaWnrCY6zpeGypDhyPz+dr1Xzq9XqPW28J4yWO5vP55PP5Itrsuc7r9bZYLy0tldvtjqjjzBDV8N+3b1+Vl5fL4XDI4XBowIABKigosHcDoiYpKUlxcXFasGCBdRy6XC57N+CUjBs3TkuWLJHD4VBmZqYSEhKOmTQlacKECUpKSrI3AyfkdrsVFxdnjWN+v1/Z2dnHhCun06mMjIyIttZivISOWsxIT0+PaHc6nerfv78yMzPlcDi0YMECjR8/3vqQ6fF4NH78eOv42bJli2bMmCGn0xnxODj9ohr+Jam6utreBLSr+vp67d69294MtJk777zTWtgIhUIqKiqSw+GImPScTqdGjRqlPXv2HHVPoHX8fr8mTZpk3V61apVqamo0cuTIiH4TJkyQJP30008R7a3FeGk2t9utOXPmaPXq1SovL4+ohUIh3XTTTQqFQpKkgoICVVZWasSIEZKkESNGqLKy0hoLV65cqbi4OI0aNSricXD6RTX8JyYm2puAdpWSkqK4uDh7MxBVffv2VU1NjTVJStLdd9+t+vp6VVRURPQFTkbTKv3evXutNrfbreuuu05FRUURfZtqpaWl1hmp5ragMV7C7/dryJAhysvLs5eO4XQ6lZCQoIqKCjmdTjkcDpWUlFh1v9+vb7/91vpwgDNHVMO/JKWnp7e4NwxoD+eee67y8/MVDocVDAY5BYmocrvdGjZsWMQk6PF4NHDgQC1cuDCiL3CyJk6cqPr6ehUXF1ttOTk52r59uzZs2BDRVz8HsalTp8rhcGjFihXWmGjf1sN4idaaMGGCEhISmj3ecGaLavh3uVzWvsEFCxbI7XbzAQDtqqCgQAMGDLCOw5qaGuXn5zOhISqaTplv2bLFWjlzOp2aNGmS1q5dK7/fb78L8Iv5fD4NGzZM8+fPt84ueb1eJSQk6Nlnn7V3t4RCIeXm5io5OVnhcFhZWVkRdcZLtJbX65Xb7daSJUsY185CUQ3/RysoKNDGjRs1fPhwewloNwsXLmQPIqLC6/XK6/VqyZIlEaFq9uzZqqmpadVpdOB4mrbqJCYmasiQIVboarrQcvny5RFbzeycTqfy8/O1ceNGORyOZi9KPxrjJZoTCASUkZGhKVOmtOpLXNjqeOZpt/DfhAuAcbpxQRvamtfrbXYydLvdSk5OVlpamrX9MT09XWlpaXwNHn6RpuBeVFR0zFadESNGKD4+XtOmTVM4HFZ+fr569eqladOmWQHf7XZr0aJFKioq0n333afc3Fw5HI4TfpUn4yWOFggEVF1drfT09IgPmqFQSDU1Nerbt6/V5na71bt374jrUnBmiFr4dzqdWrx4sXXb4/Fo2LBh2rRpU0Q/IJoeeeSRiO+6zsnJUU1NDacp0WacP3+1YlFR0TGrrk0XzzVto3A4HAoGgyovL49YuQVOpOlbfFatWmUvKSsrK+IYy83N1b59+7RgwQLrLJT9Qs5QKKT09PSIDxKMlzgej8ej3r17a+XKlfaSJGnNmjUaNmyYdQw1d10KzgxRC/+SNHjwYGu1KycnR0uWLGnVKSKgrRy9GhYOh6Wfr0UB2trkyZOt4yx8gj/CBJyMpKQkFRYWRhxnJ1q5/yUYL3EiR18Q3vTTdGF4QUGBVq9ebR1DTR9E7YsiOP1iUlNTG+2NAAAAADqeqK78AwAAADhzEP4BAAAAQxD+AQAAAEMQ/gEAAABDEP4BAAAAQxD+AQAAAEMQ/gEAAABDEP4BAAAAQxD+AQAAAEMQ/gEAAABDEP4BAAAAQxD+AQAAAEMQ/gEAAABDEP4BAAAAQxD+AQAAAEMQ/gEAAABDEP4BAAAAQxD+AQAAAEMQ/gEAAABDEP4BAAAAQxD+AQAAAEMQ/gEAAABDEP4BAAAAQxD+AQAAAEMQ/gEAAABDEP4BAAAAQxD+AQAAAEMQ/gEAAABDEP4BAAAAQxD+AQAAAEMQ/gEAAABDEP4BAAAAQxD+AQAAAEMQ/gEAAABDEP4BAAAAQxD+AQAAAEMQ/gEAAABDEP4BAAAAQxD+AQAAAEMQ/gEAAABDEP4BAAAAQxD+AQAAAEMQ/gEAAABDEP4BAAAAQxD+AQAAAEMQ/gEAAABDEP4BAAAAQxD+AQAAAEMQ/gEAAABDEP4BAAAAQxD+AQAAAEMQ/gEAAABDEP4BAAAAQxD+AQAAAEMQ/gEAAABDEP4BAAAAQxD+AQAAAEMQ/gEAAABDxKSmpjbaG9tCamqqvQkAAADAaRS18A8AAADgzMK2HwAAAMAQhH8AAADAEIR/AAAAwBCEfwAAAMAQhH8AAADAEHzbDwDgpHTq1Endu3dXt27d1LVrV3Xu3FmdO3eWJB06dEiHDh1SQ0ODDhw4oLq6Oh05csT+EACAdkb4BwD8Il27dtV5552n7t2768CBA9q/f7/q6+t15MgRK+B36tRJnTp1UlxcnM455xx169ZNdXV1+vHHH9XQ0GB/SABAO/l/ngq6X+3kpvgAAAAASUVORK5CYII=)"
      ],
      "metadata": {
        "id": "Mu9XdkB6M-Vy"
      }
    },
    {
      "cell_type": "markdown",
      "source": [
        "## **Take two numbers and print their average**"
      ],
      "metadata": {
        "id": "Igo8yp5488W7"
      }
    },
    {
      "cell_type": "code",
      "source": [
        "# Taking input from user\n",
        "num1 = (input(\"Enter first number: \"))\n",
        "num2 = (input(\"Enter second number: \"))\n",
        "\n",
        "# Calculating average\n",
        "average = (num1 + num2) / 2\n",
        "\n",
        "# Displaying result\n",
        "print(\"The average is:\", average)\n"
      ],
      "metadata": {
        "id": "UKZb9R8h80vu"
      },
      "execution_count": null,
      "outputs": []
    },
    {
      "cell_type": "markdown",
      "source": [
        "## **Check if a number is Even or Odd**"
      ],
      "metadata": {
        "id": "5OmJh6Pd9FOb"
      }
    },
    {
      "cell_type": "code",
      "source": [
        "# Taking input from user\n",
        "num = int(input(\"Enter a number: \"))\n",
        "\n",
        "# Check condition\n",
        "if num % 2 == 0:\n",
        "    print(num, \"is Even\")\n",
        "else:\n",
        "    print(num, \"is Odd\")\n"
      ],
      "metadata": {
        "id": "HdfOqg-Q8_0F"
      },
      "execution_count": null,
      "outputs": []
    },
    {
      "cell_type": "markdown",
      "source": [
        "## **Create a list of 5 numbers and print their sum**"
      ],
      "metadata": {
        "id": "XyocabJR9MmU"
      }
    },
    {
      "cell_type": "code",
      "source": [
        "# Creating a list of 5 numbers\n",
        "numbers = [10, 20, 30, 40, 50]\n",
        "\n",
        "# Printing the list\n",
        "print(\"Numbers:\", numbers)\n",
        "\n",
        "# Calculating sum\n",
        "total = sum(numbers)\n",
        "\n",
        "# Displaying result\n",
        "print(\"Sum of numbers:\", total)\n"
      ],
      "metadata": {
        "id": "7ZllSf169Iyw"
      },
      "execution_count": null,
      "outputs": []
    },
    {
      "cell_type": "code",
      "source": [
        "print(\"aaaa\")"
      ],
      "metadata": {
        "id": "ZaTfsbDI9RYf"
      },
      "execution_count": null,
      "outputs": []
    },
    {
      "cell_type": "code",
      "source": [
        "x = 5"
      ],
      "metadata": {
        "id": "q0_zu8YsPY4d"
      },
      "execution_count": null,
      "outputs": []
    },
    {
      "cell_type": "code",
      "source": [
        "y = 5"
      ],
      "metadata": {
        "id": "wEuiaIZ0PaGN"
      },
      "execution_count": null,
      "outputs": []
    },
    {
      "cell_type": "code",
      "source": [
        "z = x+ y"
      ],
      "metadata": {
        "id": "Mwr4VuDQPcMA"
      },
      "execution_count": null,
      "outputs": []
    },
    {
      "cell_type": "code",
      "source": [
        "print(z)"
      ],
      "metadata": {
        "id": "qSrt2gxmPdu_"
      },
      "execution_count": null,
      "outputs": []
    },
    {
      "cell_type": "code",
      "source": [
        "x = 5\n",
        "y = 3\n",
        "z = x + y\n",
        "print(\"z =\", z)"
      ],
      "metadata": {
        "id": "kjVkMqPnPgb1"
      },
      "execution_count": null,
      "outputs": []
    },
    {
      "cell_type": "code",
      "source": [],
      "metadata": {
        "id": "TOvtnOthSeZN"
      },
      "execution_count": null,
      "outputs": []
    }
  ]
}